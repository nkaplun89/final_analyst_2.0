{
 "cells": [
  {
   "cell_type": "code",
   "execution_count": 1,
   "id": "a300d7b3-15e8-4eec-a99a-6247c66f0305",
   "metadata": {},
   "outputs": [],
   "source": [
    "import pandas as pd\n",
    "import numpy as np\n",
    "import matplotlib.pyplot as plt\n",
    "import seaborn as sns\n",
    "import scipy.special as sps\n",
    "from scipy import *\n",
    "from scipy import stats\n",
    "from scipy.stats import norm\n",
    "import statsmodels.api as sm"
   ]
  },
  {
   "cell_type": "code",
   "execution_count": 2,
   "id": "75c99b72-625b-4bd4-a646-307be6dff2a3",
   "metadata": {},
   "outputs": [],
   "source": [
    "df_abgr = pd.read_csv('ABgroup.csv').drop_duplicates(subset = 'user_id')\n",
    "df_cheat = pd.read_csv('Cheaters.csv').drop_duplicates(subset = 'user_id')\n",
    "df_pltfrm = pd.read_csv('Platforms.csv').drop_duplicates(subset = 'user_id')\n",
    "df_money = pd.read_csv('Money.csv')\n",
    "df_cash = pd.read_csv('Cash.csv')"
   ]
  },
  {
   "cell_type": "code",
   "execution_count": 3,
   "id": "a96a3d37-5233-4b89-8e93-87b45a1cf43e",
   "metadata": {},
   "outputs": [],
   "source": [
    "apc = pd.merge(df_abgr, df_pltfrm, on = 'user_id')\n",
    "apc = apc.merge(df_cheat, on = 'user_id')"
   ]
  },
  {
   "cell_type": "code",
   "execution_count": 4,
   "id": "0d2b6d76-8309-46b0-8905-ccfc77dd6233",
   "metadata": {},
   "outputs": [],
   "source": [
    "mc = pd.merge(df_money, df_cash)\n",
    "common = pd.merge(mc, apc, on = ['user_id'])"
   ]
  },
  {
   "cell_type": "code",
   "execution_count": 5,
   "id": "626b9f43-4e83-4af2-a2fe-52315d8dc9a9",
   "metadata": {},
   "outputs": [],
   "source": [
    "df1 = common.groupby('user_id')[['money', 'cash']].sum()\n",
    "df1 = df1.reset_index()"
   ]
  },
  {
   "cell_type": "code",
   "execution_count": 6,
   "id": "d4989da3-523e-4dce-a386-1f8016701e9c",
   "metadata": {},
   "outputs": [],
   "source": [
    "df2 = df_cheat[df_cheat['cheaters'] == 1].drop_duplicates(subset = 'user_id')\n",
    "df2.drop('cheaters', axis= 1 , inplace= True)"
   ]
  },
  {
   "cell_type": "code",
   "execution_count": 7,
   "id": "0157406c-8028-4b0b-8646-82e7dd776ed3",
   "metadata": {},
   "outputs": [],
   "source": [
    "df3 = pd.merge(df2, df1, on = 'user_id')"
   ]
  },
  {
   "cell_type": "code",
   "execution_count": 8,
   "id": "05820b1a-d6c8-4203-8bc8-4c049dff23f3",
   "metadata": {},
   "outputs": [],
   "source": [
    "df4 = pd.concat([df1, df2], ignore_index= True)\n",
    "df4 = df4.drop_duplicates(subset = 'user_id', keep = False)"
   ]
  },
  {
   "cell_type": "code",
   "execution_count": 9,
   "id": "2e9fd1d2-ba64-4674-9532-caf2823ebd87",
   "metadata": {},
   "outputs": [
    {
     "data": {
      "text/html": [
       "<div>\n",
       "<style scoped>\n",
       "    .dataframe tbody tr th:only-of-type {\n",
       "        vertical-align: middle;\n",
       "    }\n",
       "\n",
       "    .dataframe tbody tr th {\n",
       "        vertical-align: top;\n",
       "    }\n",
       "\n",
       "    .dataframe thead th {\n",
       "        text-align: right;\n",
       "    }\n",
       "</style>\n",
       "<table border=\"1\" class=\"dataframe\">\n",
       "  <thead>\n",
       "    <tr style=\"text-align: right;\">\n",
       "      <th></th>\n",
       "      <th>user_id</th>\n",
       "      <th>cash</th>\n",
       "    </tr>\n",
       "  </thead>\n",
       "  <tbody>\n",
       "    <tr>\n",
       "      <th>0</th>\n",
       "      <td>00036L-1T885I</td>\n",
       "      <td>2900</td>\n",
       "    </tr>\n",
       "    <tr>\n",
       "      <th>1</th>\n",
       "      <td>0004MK-MRBUKF</td>\n",
       "      <td>2050</td>\n",
       "    </tr>\n",
       "    <tr>\n",
       "      <th>2</th>\n",
       "      <td>0004MK-VW0O9L</td>\n",
       "      <td>1500</td>\n",
       "    </tr>\n",
       "    <tr>\n",
       "      <th>3</th>\n",
       "      <td>0005S4-UEC6BE</td>\n",
       "      <td>550</td>\n",
       "    </tr>\n",
       "    <tr>\n",
       "      <th>4</th>\n",
       "      <td>0007I5-EWUD6O</td>\n",
       "      <td>850</td>\n",
       "    </tr>\n",
       "    <tr>\n",
       "      <th>...</th>\n",
       "      <td>...</td>\n",
       "      <td>...</td>\n",
       "    </tr>\n",
       "    <tr>\n",
       "      <th>1070526</th>\n",
       "      <td>ZZZPEX-P2T8BH</td>\n",
       "      <td>1350</td>\n",
       "    </tr>\n",
       "    <tr>\n",
       "      <th>1070527</th>\n",
       "      <td>ZZZTEN-0QGZ3X</td>\n",
       "      <td>900</td>\n",
       "    </tr>\n",
       "    <tr>\n",
       "      <th>1070528</th>\n",
       "      <td>ZZZTR5-QSI6D3</td>\n",
       "      <td>4900</td>\n",
       "    </tr>\n",
       "    <tr>\n",
       "      <th>1070529</th>\n",
       "      <td>ZZZV9K-NM9B4Z</td>\n",
       "      <td>2300</td>\n",
       "    </tr>\n",
       "    <tr>\n",
       "      <th>1070530</th>\n",
       "      <td>ZZZVH1-2OJT7I</td>\n",
       "      <td>1700</td>\n",
       "    </tr>\n",
       "  </tbody>\n",
       "</table>\n",
       "<p>1070531 rows × 2 columns</p>\n",
       "</div>"
      ],
      "text/plain": [
       "               user_id  cash\n",
       "0        00036L-1T885I  2900\n",
       "1        0004MK-MRBUKF  2050\n",
       "2        0004MK-VW0O9L  1500\n",
       "3        0005S4-UEC6BE   550\n",
       "4        0007I5-EWUD6O   850\n",
       "...                ...   ...\n",
       "1070526  ZZZPEX-P2T8BH  1350\n",
       "1070527  ZZZTEN-0QGZ3X   900\n",
       "1070528  ZZZTR5-QSI6D3  4900\n",
       "1070529  ZZZV9K-NM9B4Z  2300\n",
       "1070530  ZZZVH1-2OJT7I  1700\n",
       "\n",
       "[1070531 rows x 2 columns]"
      ]
     },
     "execution_count": 9,
     "metadata": {},
     "output_type": "execute_result"
    }
   ],
   "source": [
    "new_cheat = pd.merge(df_money, df_cash)\n",
    "new_cheat = new_cheat.merge(df_cheat)\n",
    "new_cheat.drop('date', axis= 1 , inplace= True)\n",
    "new_cheat = new_cheat.loc[new_cheat['cheaters'] != 1]\n",
    "new_cheat.drop('cheaters', axis= 1 , inplace= True)\n",
    "new_cheat = new_cheat.loc[new_cheat['money'] == 0]\n",
    "new_cheat.drop('money', axis= 1 , inplace= True)\n",
    "new_cheat = new_cheat.groupby(['user_id'], as_index=False).sum()\n",
    "new_cheat"
   ]
  },
  {
   "cell_type": "code",
   "execution_count": 10,
   "id": "13f33074-8e0e-4083-a7a5-77b8e1279ed1",
   "metadata": {},
   "outputs": [
    {
     "data": {
      "image/png": "[encoded data removed]",
      "text/plain": [
       "<Figure size 640x480 with 1 Axes>"
      ]
     },
     "metadata": {},
     "output_type": "display_data"
    }
   ],
   "source": [
    "# наглядное выявление выбросов\n",
    "sns.boxplot(x=new_cheat.cash)\n",
    "plt.title('Boxplot cash')\n",
    "plt.show()"
   ]
  },
  {
   "cell_type": "code",
   "execution_count": 11,
   "id": "5e76b427-aefa-487f-b97a-4454c6e026d6",
   "metadata": {},
   "outputs": [
    {
     "name": "stdout",
     "output_type": "stream",
     "text": [
      "Найдено потенциальных читеров: 374 из 1070531 пользователей \n"
     ]
    }
   ],
   "source": [
    "Q1 = new_cheat.cash.quantile(0.25)\n",
    "Q3 = new_cheat.cash.quantile(0.75)\n",
    "IQR = Q3 - Q1\n",
    "lower = Q1 - (3 * IQR) \n",
    "upper = Q3 + (3 * IQR)\n",
    "cheaters = new_cheat[(new_cheat.cash < lower) | (new_cheat.cash > upper)]\n",
    "print(f\"Найдено потенциальных читеров: {len(cheaters)} из {len(new_cheat)} пользователей \")"
   ]
  },
  {
   "cell_type": "code",
   "execution_count": 12,
   "id": "697c9e46-b1a7-48dd-93b1-20f80bedd732",
   "metadata": {},
   "outputs": [],
   "source": [
    "def quantile_confidence_interval(df, column='cash', alpha=0.95):\n",
    "    lower = df[column].quantile((1 - alpha) / 2)\n",
    "    upper = df[column].quantile(1 - (1 - alpha) / 2)\n",
    "    return (lower, upper)\n",
    "    \n",
    "confidence = quantile_confidence_interval(cheaters)"
   ]
  },
  {
   "cell_type": "code",
   "execution_count": 13,
   "id": "56033693-d9aa-412c-a522-00db31fc84e2",
   "metadata": {},
   "outputs": [
    {
     "data": {
      "text/plain": [
       "Text(0.5, 1.0, 'Доверительный интервал')"
      ]
     },
     "execution_count": 13,
     "metadata": {},
     "output_type": "execute_result"
    },
    {
     "data": {
      "image/png": "[encoded data removed]",
      "text/plain": [
       "<Figure size 640x480 with 1 Axes>"
      ]
     },
     "metadata": {},
     "output_type": "display_data"
    }
   ],
   "source": [
    "cheaters.cash.plot()\n",
    "plt.axhline(y=confidence[1], color=\"g\", linestyle=\"-\")\n",
    "plt.axhline(y=confidence[0], color=\"r\", linestyle=\"-\")\n",
    "plt.title(\"Доверительный интервал\")"
   ]
  },
  {
   "cell_type": "code",
   "execution_count": 14,
   "id": "5b5c19e2-3abd-48b8-9dc8-38499d0753d4",
   "metadata": {},
   "outputs": [],
   "source": [
    "clean = pd.concat([cheaters, df4])\n",
    "clean = clean.drop_duplicates(subset = 'user_id', keep = False)"
   ]
  },
  {
   "cell_type": "code",
   "execution_count": 15,
   "id": "2381ef0a-5dd4-4413-b0df-db5c4f3decaa",
   "metadata": {},
   "outputs": [
    {
     "data": {
      "text/plain": [
       "<Axes: >"
      ]
     },
     "execution_count": 15,
     "metadata": {},
     "output_type": "execute_result"
    },
    {
     "data": {
      "image/png": "[encoded data removed]",
      "text/plain": [
       "<Figure size 640x480 with 1 Axes>"
      ]
     },
     "metadata": {},
     "output_type": "display_data"
    }
   ],
   "source": [
    "clean.cash.plot()"
   ]
  },
  {
   "cell_type": "code",
   "execution_count": 16,
   "id": "8abdc594-060d-4dad-8389-38fe57e7a7b4",
   "metadata": {},
   "outputs": [
    {
     "data": {
      "image/png": "[encoded data removed]",
      "text/plain": [
       "<Figure size 640x480 with 1 Axes>"
      ]
     },
     "metadata": {},
     "output_type": "display_data"
    }
   ],
   "source": [
    "sm.qqplot(clean['cash'])\n",
    "plt.show()"
   ]
  },
  {
   "cell_type": "code",
   "execution_count": 17,
   "id": "76b70c8f-0b84-43ad-8a3f-56da0ba007ed",
   "metadata": {},
   "outputs": [],
   "source": [
    "common_2 = common.copy()\n",
    "common_2.drop('date', axis= 1 , inplace= True)\n",
    "common_2 = common_2.groupby(['user_id', 'group', 'platform'], as_index=False).sum()"
   ]
  },
  {
   "cell_type": "code",
   "execution_count": 18,
   "id": "cb2868b6-3392-4d3e-9554-0ded16ee7adc",
   "metadata": {},
   "outputs": [
    {
     "data": {
      "text/html": [
       "<div>\n",
       "<style scoped>\n",
       "    .dataframe tbody tr th:only-of-type {\n",
       "        vertical-align: middle;\n",
       "    }\n",
       "\n",
       "    .dataframe tbody tr th {\n",
       "        vertical-align: top;\n",
       "    }\n",
       "\n",
       "    .dataframe thead th {\n",
       "        text-align: right;\n",
       "    }\n",
       "</style>\n",
       "<table border=\"1\" class=\"dataframe\">\n",
       "  <thead>\n",
       "    <tr style=\"text-align: right;\">\n",
       "      <th></th>\n",
       "      <th>user_id</th>\n",
       "      <th>cash</th>\n",
       "      <th>money</th>\n",
       "      <th>group</th>\n",
       "      <th>platform</th>\n",
       "    </tr>\n",
       "  </thead>\n",
       "  <tbody>\n",
       "    <tr>\n",
       "      <th>0</th>\n",
       "      <td>00036L-1T885I</td>\n",
       "      <td>7600.0</td>\n",
       "      <td>3.97</td>\n",
       "      <td>control</td>\n",
       "      <td>XBox</td>\n",
       "    </tr>\n",
       "    <tr>\n",
       "      <th>1</th>\n",
       "      <td>0004MK-MRBUKF</td>\n",
       "      <td>6150.0</td>\n",
       "      <td>5.95</td>\n",
       "      <td>control</td>\n",
       "      <td>PS4</td>\n",
       "    </tr>\n",
       "    <tr>\n",
       "      <th>2</th>\n",
       "      <td>0004MK-VW0O9L</td>\n",
       "      <td>6300.0</td>\n",
       "      <td>4.96</td>\n",
       "      <td>test</td>\n",
       "      <td>PC</td>\n",
       "    </tr>\n",
       "    <tr>\n",
       "      <th>3</th>\n",
       "      <td>0005S4-UEC6BE</td>\n",
       "      <td>5000.0</td>\n",
       "      <td>5.95</td>\n",
       "      <td>test</td>\n",
       "      <td>PC</td>\n",
       "    </tr>\n",
       "    <tr>\n",
       "      <th>4</th>\n",
       "      <td>0007I5-EWUD6O</td>\n",
       "      <td>6350.0</td>\n",
       "      <td>6.94</td>\n",
       "      <td>test</td>\n",
       "      <td>PC</td>\n",
       "    </tr>\n",
       "    <tr>\n",
       "      <th>...</th>\n",
       "      <td>...</td>\n",
       "      <td>...</td>\n",
       "      <td>...</td>\n",
       "      <td>...</td>\n",
       "      <td>...</td>\n",
       "    </tr>\n",
       "    <tr>\n",
       "      <th>1079268</th>\n",
       "      <td>ZZZPEX-P2T8BH</td>\n",
       "      <td>6600.0</td>\n",
       "      <td>6.95</td>\n",
       "      <td>test</td>\n",
       "      <td>PC</td>\n",
       "    </tr>\n",
       "    <tr>\n",
       "      <th>1079269</th>\n",
       "      <td>ZZZTEN-0QGZ3X</td>\n",
       "      <td>4600.0</td>\n",
       "      <td>5.97</td>\n",
       "      <td>test</td>\n",
       "      <td>XBox</td>\n",
       "    </tr>\n",
       "    <tr>\n",
       "      <th>1079270</th>\n",
       "      <td>ZZZTR5-QSI6D3</td>\n",
       "      <td>5900.0</td>\n",
       "      <td>0.99</td>\n",
       "      <td>test</td>\n",
       "      <td>XBox</td>\n",
       "    </tr>\n",
       "    <tr>\n",
       "      <th>1079271</th>\n",
       "      <td>ZZZV9K-NM9B4Z</td>\n",
       "      <td>3900.0</td>\n",
       "      <td>3.97</td>\n",
       "      <td>control</td>\n",
       "      <td>PS4</td>\n",
       "    </tr>\n",
       "    <tr>\n",
       "      <th>1079272</th>\n",
       "      <td>ZZZVH1-2OJT7I</td>\n",
       "      <td>5250.0</td>\n",
       "      <td>3.96</td>\n",
       "      <td>control</td>\n",
       "      <td>PC</td>\n",
       "    </tr>\n",
       "  </tbody>\n",
       "</table>\n",
       "<p>1079273 rows × 5 columns</p>\n",
       "</div>"
      ],
      "text/plain": [
       "               user_id    cash  money    group platform\n",
       "0        00036L-1T885I  7600.0   3.97  control     XBox\n",
       "1        0004MK-MRBUKF  6150.0   5.95  control      PS4\n",
       "2        0004MK-VW0O9L  6300.0   4.96     test       PC\n",
       "3        0005S4-UEC6BE  5000.0   5.95     test       PC\n",
       "4        0007I5-EWUD6O  6350.0   6.94     test       PC\n",
       "...                ...     ...    ...      ...      ...\n",
       "1079268  ZZZPEX-P2T8BH  6600.0   6.95     test       PC\n",
       "1079269  ZZZTEN-0QGZ3X  4600.0   5.97     test     XBox\n",
       "1079270  ZZZTR5-QSI6D3  5900.0   0.99     test     XBox\n",
       "1079271  ZZZV9K-NM9B4Z  3900.0   3.97  control      PS4\n",
       "1079272  ZZZVH1-2OJT7I  5250.0   3.96  control       PC\n",
       "\n",
       "[1079273 rows x 5 columns]"
      ]
     },
     "execution_count": 18,
     "metadata": {},
     "output_type": "execute_result"
    }
   ],
   "source": [
    "common_3 = pd.merge(clean, common_2, on = ['user_id', 'money', 'cash'], how = 'left')\n",
    "del common_3['cheaters']\n",
    "common_3"
   ]
  },
  {
   "cell_type": "code",
   "execution_count": 19,
   "id": "047c3139-a019-4d11-a861-c379c1bf03b7",
   "metadata": {},
   "outputs": [
    {
     "data": {
      "text/html": [
       "<div>\n",
       "<style scoped>\n",
       "    .dataframe tbody tr th:only-of-type {\n",
       "        vertical-align: middle;\n",
       "    }\n",
       "\n",
       "    .dataframe tbody tr th {\n",
       "        vertical-align: top;\n",
       "    }\n",
       "\n",
       "    .dataframe thead th {\n",
       "        text-align: right;\n",
       "    }\n",
       "</style>\n",
       "<table border=\"1\" class=\"dataframe\">\n",
       "  <thead>\n",
       "    <tr style=\"text-align: right;\">\n",
       "      <th></th>\n",
       "      <th>user_id</th>\n",
       "      <th>cash</th>\n",
       "      <th>money</th>\n",
       "      <th>group</th>\n",
       "      <th>platform</th>\n",
       "    </tr>\n",
       "  </thead>\n",
       "  <tbody>\n",
       "    <tr>\n",
       "      <th>0</th>\n",
       "      <td>00036L-1T885I</td>\n",
       "      <td>7600.0</td>\n",
       "      <td>3.97</td>\n",
       "      <td>control</td>\n",
       "      <td>XBox</td>\n",
       "    </tr>\n",
       "    <tr>\n",
       "      <th>1</th>\n",
       "      <td>0004MK-MRBUKF</td>\n",
       "      <td>6150.0</td>\n",
       "      <td>5.95</td>\n",
       "      <td>control</td>\n",
       "      <td>PS4</td>\n",
       "    </tr>\n",
       "    <tr>\n",
       "      <th>5</th>\n",
       "      <td>0009DN-TWTJIG</td>\n",
       "      <td>7250.0</td>\n",
       "      <td>5.97</td>\n",
       "      <td>control</td>\n",
       "      <td>XBox</td>\n",
       "    </tr>\n",
       "    <tr>\n",
       "      <th>6</th>\n",
       "      <td>000A88-I8NCEL</td>\n",
       "      <td>4500.0</td>\n",
       "      <td>3.97</td>\n",
       "      <td>control</td>\n",
       "      <td>PS4</td>\n",
       "    </tr>\n",
       "    <tr>\n",
       "      <th>7</th>\n",
       "      <td>000B68-JX82RN</td>\n",
       "      <td>7200.0</td>\n",
       "      <td>5.95</td>\n",
       "      <td>control</td>\n",
       "      <td>PS4</td>\n",
       "    </tr>\n",
       "    <tr>\n",
       "      <th>...</th>\n",
       "      <td>...</td>\n",
       "      <td>...</td>\n",
       "      <td>...</td>\n",
       "      <td>...</td>\n",
       "      <td>...</td>\n",
       "    </tr>\n",
       "    <tr>\n",
       "      <th>1079258</th>\n",
       "      <td>ZZZ8PP-DTMHBH</td>\n",
       "      <td>4750.0</td>\n",
       "      <td>2.98</td>\n",
       "      <td>control</td>\n",
       "      <td>PS4</td>\n",
       "    </tr>\n",
       "    <tr>\n",
       "      <th>1079265</th>\n",
       "      <td>ZZZL1P-5DBOHS</td>\n",
       "      <td>6550.0</td>\n",
       "      <td>8.94</td>\n",
       "      <td>control</td>\n",
       "      <td>PS4</td>\n",
       "    </tr>\n",
       "    <tr>\n",
       "      <th>1079266</th>\n",
       "      <td>ZZZNBN-SJROHK</td>\n",
       "      <td>5450.0</td>\n",
       "      <td>4.95</td>\n",
       "      <td>control</td>\n",
       "      <td>PS4</td>\n",
       "    </tr>\n",
       "    <tr>\n",
       "      <th>1079271</th>\n",
       "      <td>ZZZV9K-NM9B4Z</td>\n",
       "      <td>3900.0</td>\n",
       "      <td>3.97</td>\n",
       "      <td>control</td>\n",
       "      <td>PS4</td>\n",
       "    </tr>\n",
       "    <tr>\n",
       "      <th>1079272</th>\n",
       "      <td>ZZZVH1-2OJT7I</td>\n",
       "      <td>5250.0</td>\n",
       "      <td>3.96</td>\n",
       "      <td>control</td>\n",
       "      <td>PC</td>\n",
       "    </tr>\n",
       "  </tbody>\n",
       "</table>\n",
       "<p>539976 rows × 5 columns</p>\n",
       "</div>"
      ],
      "text/plain": [
       "               user_id    cash  money    group platform\n",
       "0        00036L-1T885I  7600.0   3.97  control     XBox\n",
       "1        0004MK-MRBUKF  6150.0   5.95  control      PS4\n",
       "5        0009DN-TWTJIG  7250.0   5.97  control     XBox\n",
       "6        000A88-I8NCEL  4500.0   3.97  control      PS4\n",
       "7        000B68-JX82RN  7200.0   5.95  control      PS4\n",
       "...                ...     ...    ...      ...      ...\n",
       "1079258  ZZZ8PP-DTMHBH  4750.0   2.98  control      PS4\n",
       "1079265  ZZZL1P-5DBOHS  6550.0   8.94  control      PS4\n",
       "1079266  ZZZNBN-SJROHK  5450.0   4.95  control      PS4\n",
       "1079271  ZZZV9K-NM9B4Z  3900.0   3.97  control      PS4\n",
       "1079272  ZZZVH1-2OJT7I  5250.0   3.96  control       PC\n",
       "\n",
       "[539976 rows x 5 columns]"
      ]
     },
     "execution_count": 19,
     "metadata": {},
     "output_type": "execute_result"
    }
   ],
   "source": [
    "control = common_3.loc[common_3['group'] == 'control']\n",
    "control"
   ]
  },
  {
   "cell_type": "code",
   "execution_count": 20,
   "id": "38af3441-7415-45f1-8cab-35e7b6ffaa22",
   "metadata": {},
   "outputs": [
    {
     "data": {
      "text/html": [
       "<div>\n",
       "<style scoped>\n",
       "    .dataframe tbody tr th:only-of-type {\n",
       "        vertical-align: middle;\n",
       "    }\n",
       "\n",
       "    .dataframe tbody tr th {\n",
       "        vertical-align: top;\n",
       "    }\n",
       "\n",
       "    .dataframe thead th {\n",
       "        text-align: right;\n",
       "    }\n",
       "</style>\n",
       "<table border=\"1\" class=\"dataframe\">\n",
       "  <thead>\n",
       "    <tr style=\"text-align: right;\">\n",
       "      <th></th>\n",
       "      <th>user_id</th>\n",
       "      <th>cash</th>\n",
       "      <th>money</th>\n",
       "      <th>group</th>\n",
       "      <th>platform</th>\n",
       "    </tr>\n",
       "  </thead>\n",
       "  <tbody>\n",
       "    <tr>\n",
       "      <th>2</th>\n",
       "      <td>0004MK-VW0O9L</td>\n",
       "      <td>6300.0</td>\n",
       "      <td>4.96</td>\n",
       "      <td>test</td>\n",
       "      <td>PC</td>\n",
       "    </tr>\n",
       "    <tr>\n",
       "      <th>3</th>\n",
       "      <td>0005S4-UEC6BE</td>\n",
       "      <td>5000.0</td>\n",
       "      <td>5.95</td>\n",
       "      <td>test</td>\n",
       "      <td>PC</td>\n",
       "    </tr>\n",
       "    <tr>\n",
       "      <th>4</th>\n",
       "      <td>0007I5-EWUD6O</td>\n",
       "      <td>6350.0</td>\n",
       "      <td>6.94</td>\n",
       "      <td>test</td>\n",
       "      <td>PC</td>\n",
       "    </tr>\n",
       "    <tr>\n",
       "      <th>13</th>\n",
       "      <td>000IF8-UU506H</td>\n",
       "      <td>5350.0</td>\n",
       "      <td>6.94</td>\n",
       "      <td>test</td>\n",
       "      <td>PS4</td>\n",
       "    </tr>\n",
       "    <tr>\n",
       "      <th>16</th>\n",
       "      <td>000IX6-VZLBS1</td>\n",
       "      <td>9900.0</td>\n",
       "      <td>10.95</td>\n",
       "      <td>test</td>\n",
       "      <td>PC</td>\n",
       "    </tr>\n",
       "    <tr>\n",
       "      <th>...</th>\n",
       "      <td>...</td>\n",
       "      <td>...</td>\n",
       "      <td>...</td>\n",
       "      <td>...</td>\n",
       "      <td>...</td>\n",
       "    </tr>\n",
       "    <tr>\n",
       "      <th>1079264</th>\n",
       "      <td>ZZZIS2-9EYJF3</td>\n",
       "      <td>7100.0</td>\n",
       "      <td>3.96</td>\n",
       "      <td>test</td>\n",
       "      <td>PC</td>\n",
       "    </tr>\n",
       "    <tr>\n",
       "      <th>1079267</th>\n",
       "      <td>ZZZONB-1W7QEW</td>\n",
       "      <td>6750.0</td>\n",
       "      <td>6.95</td>\n",
       "      <td>test</td>\n",
       "      <td>PC</td>\n",
       "    </tr>\n",
       "    <tr>\n",
       "      <th>1079268</th>\n",
       "      <td>ZZZPEX-P2T8BH</td>\n",
       "      <td>6600.0</td>\n",
       "      <td>6.95</td>\n",
       "      <td>test</td>\n",
       "      <td>PC</td>\n",
       "    </tr>\n",
       "    <tr>\n",
       "      <th>1079269</th>\n",
       "      <td>ZZZTEN-0QGZ3X</td>\n",
       "      <td>4600.0</td>\n",
       "      <td>5.97</td>\n",
       "      <td>test</td>\n",
       "      <td>XBox</td>\n",
       "    </tr>\n",
       "    <tr>\n",
       "      <th>1079270</th>\n",
       "      <td>ZZZTR5-QSI6D3</td>\n",
       "      <td>5900.0</td>\n",
       "      <td>0.99</td>\n",
       "      <td>test</td>\n",
       "      <td>XBox</td>\n",
       "    </tr>\n",
       "  </tbody>\n",
       "</table>\n",
       "<p>539297 rows × 5 columns</p>\n",
       "</div>"
      ],
      "text/plain": [
       "               user_id    cash  money group platform\n",
       "2        0004MK-VW0O9L  6300.0   4.96  test       PC\n",
       "3        0005S4-UEC6BE  5000.0   5.95  test       PC\n",
       "4        0007I5-EWUD6O  6350.0   6.94  test       PC\n",
       "13       000IF8-UU506H  5350.0   6.94  test      PS4\n",
       "16       000IX6-VZLBS1  9900.0  10.95  test       PC\n",
       "...                ...     ...    ...   ...      ...\n",
       "1079264  ZZZIS2-9EYJF3  7100.0   3.96  test       PC\n",
       "1079267  ZZZONB-1W7QEW  6750.0   6.95  test       PC\n",
       "1079268  ZZZPEX-P2T8BH  6600.0   6.95  test       PC\n",
       "1079269  ZZZTEN-0QGZ3X  4600.0   5.97  test     XBox\n",
       "1079270  ZZZTR5-QSI6D3  5900.0   0.99  test     XBox\n",
       "\n",
       "[539297 rows x 5 columns]"
      ]
     },
     "execution_count": 20,
     "metadata": {},
     "output_type": "execute_result"
    }
   ],
   "source": [
    "test = common_3.loc[common_3['group'] == 'test']\n",
    "test"
   ]
  },
  {
   "cell_type": "markdown",
   "id": "086668e6-a6b5-4182-9ee2-ba4cbc62b487",
   "metadata": {},
   "source": [
    "# Доверительные интервалы групп с владельцами PS4"
   ]
  },
  {
   "cell_type": "code",
   "execution_count": 21,
   "id": "e9f9f91f-f74b-4294-9d71-fa78dc790acc",
   "metadata": {},
   "outputs": [],
   "source": [
    "control_ps4 = control.loc[control['platform'] == 'PS4']\n",
    "test_ps4 = test.loc[test['platform'] == 'PS4']"
   ]
  },
  {
   "cell_type": "code",
   "execution_count": 22,
   "id": "b265d556-99cf-47da-b2b2-db7f97ee66aa",
   "metadata": {},
   "outputs": [],
   "source": [
    "def conf(df, column):\n",
    "    log_cash = np.log(df[column])\n",
    "    mean = log_cash.mean()\n",
    "    std = log_cash.std()\n",
    "    ci_log = norm.interval(0.95, loc=mean, scale=std)\n",
    "    ci_real = (np.expm1(ci_log[0]), np.expm1(ci_log[1]))  # Обратно в оригинальные единицы\n",
    "    return ci_real"
   ]
  },
  {
   "cell_type": "code",
   "execution_count": 23,
   "id": "1ae55a37-c032-4592-bf28-5cffc3012d73",
   "metadata": {},
   "outputs": [
    {
     "name": "stdout",
     "output_type": "stream",
     "text": [
      "Контрольная группа: (3330.9537261003647, 9114.260605419806)\n",
      "Тестовая группа: (3725.0436418203208, 9555.161327454549)\n"
     ]
    }
   ],
   "source": [
    "print(f'Контрольная группа: {conf(control_ps4, 'cash')}')\n",
    "print(f'Тестовая группа: {conf(test_ps4, 'cash')}')"
   ]
  },
  {
   "cell_type": "code",
   "execution_count": 35,
   "id": "f2da29ab-df1a-4f5b-a1ed-ae8691418cd1",
   "metadata": {},
   "outputs": [],
   "source": [
    "def cliffs_delta(x, y):\n",
    "    nx = len(x)\n",
    "    ny = len(y)\n",
    "    more = 0\n",
    "    less = 0\n",
    "    for xi in x:\n",
    "        more += np.sum(xi > y)\n",
    "        less += np.sum(xi < y)\n",
    "    delta = (more - less) / (nx * ny)\n",
    "    return delta"
   ]
  },
  {
   "cell_type": "code",
   "execution_count": 34,
   "id": "b8fae1cd-a201-4bd2-a7f8-ccbbb2ef7a77",
   "metadata": {},
   "outputs": [
    {
     "name": "stdout",
     "output_type": "stream",
     "text": [
      "U-статистика = 13133228152.50, p-value = 0.0000\n"
     ]
    }
   ],
   "source": [
    "from scipy.stats import mannwhitneyu\n",
    "control_cash_1 = control_ps4['cash']\n",
    "test_cash_1 = test_ps4['cash']\n",
    "stat, p = mannwhitneyu(control_cash, test_cash, alternative='two-sided')\n",
    "print(f\"U-статистика = {stat:.2f}, p-value = {p:.4f}\")"
   ]
  },
  {
   "cell_type": "code",
   "execution_count": 36,
   "id": "8673cae1-5082-446c-9b58-27933f88558d",
   "metadata": {},
   "outputs": [
    {
     "name": "stdout",
     "output_type": "stream",
     "text": [
      "Cliff's Delta: 0.1857\n"
     ]
    }
   ],
   "source": [
    "delta = cliffs_delta(test_cash_1.values, control_cash_1.values)\n",
    "print(f\"Cliff's Delta: {delta:.4f}\")"
   ]
  },
  {
   "cell_type": "markdown",
   "id": "6667e394-62de-4d6a-94d8-3c0feab4d4e2",
   "metadata": {},
   "source": [
    "# Доверительные интервалы групп с владельцами XBox"
   ]
  },
  {
   "cell_type": "code",
   "execution_count": 27,
   "id": "7b0bad3c-a324-4a47-9f15-a8a4d1463190",
   "metadata": {},
   "outputs": [
    {
     "name": "stdout",
     "output_type": "stream",
     "text": [
      "Контрольная группа: (3666.4688526875057, 9680.789242969207)\n",
      "Тестовая группа: (3709.6747975227536, 9716.000259400165)\n"
     ]
    }
   ],
   "source": [
    "control_xbox = control.loc[control['platform'] == 'XBox']\n",
    "test_xbox = test.loc[test['platform'] == 'XBox']\n",
    "\n",
    "print(f'Контрольная группа: {conf(control_xbox, 'cash')}')\n",
    "print(f'Тестовая группа: {conf(test_xbox, 'cash')}')"
   ]
  },
  {
   "cell_type": "code",
   "execution_count": 37,
   "id": "51c9ce50-3e37-49bf-b528-bf7951177f4b",
   "metadata": {},
   "outputs": [
    {
     "name": "stdout",
     "output_type": "stream",
     "text": [
      "U-статистика = 13133228152.50, p-value = 0.0000\n"
     ]
    }
   ],
   "source": [
    "control_cash_2 = control_xbox['cash']\n",
    "test_cash_2 = test_xbox['cash']\n",
    "stat, p = mannwhitneyu(control_cash, test_cash, alternative='two-sided')\n",
    "print(f\"U-статистика = {stat:.2f}, p-value = {p:.4f}\")"
   ]
  },
  {
   "cell_type": "code",
   "execution_count": 38,
   "id": "793a63d6-7f47-4dcd-9259-5b1945a991be",
   "metadata": {},
   "outputs": [
    {
     "name": "stdout",
     "output_type": "stream",
     "text": [
      "Cliff's Delta: 0.0180\n"
     ]
    }
   ],
   "source": [
    "delta = cliffs_delta(test_cash_2.values, control_cash_2.values)\n",
    "print(f\"Cliff's Delta: {delta:.4f}\")"
   ]
  },
  {
   "cell_type": "markdown",
   "id": "7ba602c2-77ac-4b0f-8b98-440a87c06179",
   "metadata": {},
   "source": [
    "# Доверительные интервалы групп с владельцами  PC"
   ]
  },
  {
   "cell_type": "code",
   "execution_count": 28,
   "id": "7614ae99-7dce-4b6e-a521-9817a6232724",
   "metadata": {},
   "outputs": [
    {
     "name": "stdout",
     "output_type": "stream",
     "text": [
      "Контрольная группа: (3397.4875160476163, 8703.125987754296)\n",
      "Тестовая группа: (3815.779556580088, 10075.981097882208)\n"
     ]
    }
   ],
   "source": [
    "control_pc = control.loc[control['platform'] == 'PC']\n",
    "test_pc = test.loc[test['platform'] == 'PC']\n",
    "\n",
    "print(f'Контрольная группа: {conf(control_pc, 'cash')}')\n",
    "print(f'Тестовая группа: {conf(test_pc, 'cash')}')"
   ]
  },
  {
   "cell_type": "code",
   "execution_count": 39,
   "id": "0372f966-347c-4b62-bf1a-ec9baa4f8343",
   "metadata": {},
   "outputs": [
    {
     "name": "stdout",
     "output_type": "stream",
     "text": [
      "U-статистика = 13133228152.50, p-value = 0.0000\n"
     ]
    }
   ],
   "source": [
    "control_cash_3 = control_pc['cash']\n",
    "test_cash_3 = test_pc['cash']\n",
    "stat, p = mannwhitneyu(control_cash, test_cash, alternative='two-sided')\n",
    "print(f\"U-статистика = {stat:.2f}, p-value = {p:.4f}\")"
   ]
  },
  {
   "cell_type": "code",
   "execution_count": 40,
   "id": "ca8b8f27-3a13-4d37-b53f-989ed34a3610",
   "metadata": {},
   "outputs": [
    {
     "name": "stdout",
     "output_type": "stream",
     "text": [
      "Cliff's Delta: 0.3224\n"
     ]
    }
   ],
   "source": [
    "delta = cliffs_delta(test_cash_3.values, control_cash_3.values)\n",
    "print(f\"Cliff's Delta: {delta:.4f}\")"
   ]
  },
  {
   "cell_type": "markdown",
   "id": "f0fd2421-12ff-41bd-a982-dcc9b58235b9",
   "metadata": {},
   "source": [
    "#"
   ]
  },
  {
   "cell_type": "code",
   "execution_count": 29,
   "id": "c1b1b032-f9d0-4595-8f81-04280dffc051",
   "metadata": {},
   "outputs": [],
   "source": [
    "common_clean = clean.copy()\n",
    "del common_clean['cash']\n",
    "del common_clean['money']"
   ]
  },
  {
   "cell_type": "code",
   "execution_count": 30,
   "id": "9bd0e979-55af-4fa0-aa91-b580f07b50a9",
   "metadata": {},
   "outputs": [
    {
     "data": {
      "text/html": [
       "<div>\n",
       "<style scoped>\n",
       "    .dataframe tbody tr th:only-of-type {\n",
       "        vertical-align: middle;\n",
       "    }\n",
       "\n",
       "    .dataframe tbody tr th {\n",
       "        vertical-align: top;\n",
       "    }\n",
       "\n",
       "    .dataframe thead th {\n",
       "        text-align: right;\n",
       "    }\n",
       "</style>\n",
       "<table border=\"1\" class=\"dataframe\">\n",
       "  <thead>\n",
       "    <tr style=\"text-align: right;\">\n",
       "      <th></th>\n",
       "      <th>user_id</th>\n",
       "      <th>date</th>\n",
       "      <th>money</th>\n",
       "      <th>cash</th>\n",
       "      <th>group</th>\n",
       "      <th>platform</th>\n",
       "    </tr>\n",
       "  </thead>\n",
       "  <tbody>\n",
       "    <tr>\n",
       "      <th>0</th>\n",
       "      <td>00036L-1T885I</td>\n",
       "      <td>10.07.2021</td>\n",
       "      <td>0.00</td>\n",
       "      <td>700</td>\n",
       "      <td>control</td>\n",
       "      <td>XBox</td>\n",
       "    </tr>\n",
       "    <tr>\n",
       "      <th>1</th>\n",
       "      <td>00036L-1T885I</td>\n",
       "      <td>16.07.2021</td>\n",
       "      <td>0.99</td>\n",
       "      <td>550</td>\n",
       "      <td>control</td>\n",
       "      <td>XBox</td>\n",
       "    </tr>\n",
       "    <tr>\n",
       "      <th>2</th>\n",
       "      <td>00036L-1T885I</td>\n",
       "      <td>11.07.2021</td>\n",
       "      <td>0.00</td>\n",
       "      <td>0</td>\n",
       "      <td>control</td>\n",
       "      <td>XBox</td>\n",
       "    </tr>\n",
       "    <tr>\n",
       "      <th>3</th>\n",
       "      <td>00036L-1T885I</td>\n",
       "      <td>12.07.2021</td>\n",
       "      <td>0.99</td>\n",
       "      <td>1500</td>\n",
       "      <td>control</td>\n",
       "      <td>XBox</td>\n",
       "    </tr>\n",
       "    <tr>\n",
       "      <th>4</th>\n",
       "      <td>00036L-1T885I</td>\n",
       "      <td>14.07.2021</td>\n",
       "      <td>0.00</td>\n",
       "      <td>650</td>\n",
       "      <td>control</td>\n",
       "      <td>XBox</td>\n",
       "    </tr>\n",
       "    <tr>\n",
       "      <th>...</th>\n",
       "      <td>...</td>\n",
       "      <td>...</td>\n",
       "      <td>...</td>\n",
       "      <td>...</td>\n",
       "      <td>...</td>\n",
       "      <td>...</td>\n",
       "    </tr>\n",
       "    <tr>\n",
       "      <th>8634179</th>\n",
       "      <td>ZZZVH1-2OJT7I</td>\n",
       "      <td>16.07.2021</td>\n",
       "      <td>0.00</td>\n",
       "      <td>550</td>\n",
       "      <td>control</td>\n",
       "      <td>PC</td>\n",
       "    </tr>\n",
       "    <tr>\n",
       "      <th>8634180</th>\n",
       "      <td>ZZZVH1-2OJT7I</td>\n",
       "      <td>13.07.2021</td>\n",
       "      <td>0.99</td>\n",
       "      <td>650</td>\n",
       "      <td>control</td>\n",
       "      <td>PC</td>\n",
       "    </tr>\n",
       "    <tr>\n",
       "      <th>8634181</th>\n",
       "      <td>ZZZVH1-2OJT7I</td>\n",
       "      <td>11.07.2021</td>\n",
       "      <td>0.99</td>\n",
       "      <td>150</td>\n",
       "      <td>control</td>\n",
       "      <td>PC</td>\n",
       "    </tr>\n",
       "    <tr>\n",
       "      <th>8634182</th>\n",
       "      <td>ZZZVH1-2OJT7I</td>\n",
       "      <td>10.07.2021</td>\n",
       "      <td>0.99</td>\n",
       "      <td>1350</td>\n",
       "      <td>control</td>\n",
       "      <td>PC</td>\n",
       "    </tr>\n",
       "    <tr>\n",
       "      <th>8634183</th>\n",
       "      <td>ZZZVH1-2OJT7I</td>\n",
       "      <td>12.07.2021</td>\n",
       "      <td>0.00</td>\n",
       "      <td>500</td>\n",
       "      <td>control</td>\n",
       "      <td>PC</td>\n",
       "    </tr>\n",
       "  </tbody>\n",
       "</table>\n",
       "<p>8634184 rows × 6 columns</p>\n",
       "</div>"
      ],
      "text/plain": [
       "               user_id        date  money  cash    group platform\n",
       "0        00036L-1T885I  10.07.2021   0.00   700  control     XBox\n",
       "1        00036L-1T885I  16.07.2021   0.99   550  control     XBox\n",
       "2        00036L-1T885I  11.07.2021   0.00     0  control     XBox\n",
       "3        00036L-1T885I  12.07.2021   0.99  1500  control     XBox\n",
       "4        00036L-1T885I  14.07.2021   0.00   650  control     XBox\n",
       "...                ...         ...    ...   ...      ...      ...\n",
       "8634179  ZZZVH1-2OJT7I  16.07.2021   0.00   550  control       PC\n",
       "8634180  ZZZVH1-2OJT7I  13.07.2021   0.99   650  control       PC\n",
       "8634181  ZZZVH1-2OJT7I  11.07.2021   0.99   150  control       PC\n",
       "8634182  ZZZVH1-2OJT7I  10.07.2021   0.99  1350  control       PC\n",
       "8634183  ZZZVH1-2OJT7I  12.07.2021   0.00   500  control       PC\n",
       "\n",
       "[8634184 rows x 6 columns]"
      ]
     },
     "execution_count": 30,
     "metadata": {},
     "output_type": "execute_result"
    }
   ],
   "source": [
    "common_clean = pd.merge(common_clean, common, on = 'user_id', how = 'left')\n",
    "common_clean.drop('cheaters', axis= 1 , inplace= True )\n",
    "common_clean"
   ]
  },
  {
   "cell_type": "code",
   "execution_count": 31,
   "id": "693410fd-8889-4d8b-83d0-a68c5b0a0386",
   "metadata": {},
   "outputs": [],
   "source": [
    "common_4 = common_3.copy()\n",
    "del common_4['user_id']"
   ]
  },
  {
   "cell_type": "markdown",
   "id": "ab9a72a6-679b-42e3-b5ae-53c1b5c59d8f",
   "metadata": {},
   "source": [
    "# ARPU"
   ]
  },
  {
   "cell_type": "code",
   "execution_count": 32,
   "id": "11cd1e85-324e-4412-9a51-82412bfe8ebc",
   "metadata": {},
   "outputs": [
    {
     "data": {
      "text/html": [
       "<div>\n",
       "<style scoped>\n",
       "    .dataframe tbody tr th:only-of-type {\n",
       "        vertical-align: middle;\n",
       "    }\n",
       "\n",
       "    .dataframe tbody tr th {\n",
       "        vertical-align: top;\n",
       "    }\n",
       "\n",
       "    .dataframe thead th {\n",
       "        text-align: right;\n",
       "    }\n",
       "</style>\n",
       "<table border=\"1\" class=\"dataframe\">\n",
       "  <thead>\n",
       "    <tr style=\"text-align: right;\">\n",
       "      <th></th>\n",
       "      <th>cash</th>\n",
       "      <th>money</th>\n",
       "    </tr>\n",
       "    <tr>\n",
       "      <th>platform</th>\n",
       "      <th></th>\n",
       "      <th></th>\n",
       "    </tr>\n",
       "  </thead>\n",
       "  <tbody>\n",
       "    <tr>\n",
       "      <th>PC</th>\n",
       "      <td>5587.069071</td>\n",
       "      <td>5.646294</td>\n",
       "    </tr>\n",
       "    <tr>\n",
       "      <th>PS4</th>\n",
       "      <td>5681.940466</td>\n",
       "      <td>5.737843</td>\n",
       "    </tr>\n",
       "    <tr>\n",
       "      <th>XBox</th>\n",
       "      <td>6131.786745</td>\n",
       "      <td>6.103629</td>\n",
       "    </tr>\n",
       "  </tbody>\n",
       "</table>\n",
       "</div>"
      ],
      "text/plain": [
       "                 cash     money\n",
       "platform                       \n",
       "PC        5587.069071  5.646294\n",
       "PS4       5681.940466  5.737843\n",
       "XBox      6131.786745  6.103629"
      ]
     },
     "execution_count": 32,
     "metadata": {},
     "output_type": "execute_result"
    }
   ],
   "source": [
    "common_4[common_4['group'] == 'control'].groupby('platform').mean('cash', 'money')"
   ]
  },
  {
   "cell_type": "code",
   "execution_count": 33,
   "id": "353bfd05-a49d-4d5a-8d3e-972489aa1f44",
   "metadata": {},
   "outputs": [
    {
     "data": {
      "text/html": [
       "<div>\n",
       "<style scoped>\n",
       "    .dataframe tbody tr th:only-of-type {\n",
       "        vertical-align: middle;\n",
       "    }\n",
       "\n",
       "    .dataframe tbody tr th {\n",
       "        vertical-align: top;\n",
       "    }\n",
       "\n",
       "    .dataframe thead th {\n",
       "        text-align: right;\n",
       "    }\n",
       "</style>\n",
       "<table border=\"1\" class=\"dataframe\">\n",
       "  <thead>\n",
       "    <tr style=\"text-align: right;\">\n",
       "      <th></th>\n",
       "      <th>cash</th>\n",
       "      <th>money</th>\n",
       "    </tr>\n",
       "    <tr>\n",
       "      <th>platform</th>\n",
       "      <th></th>\n",
       "      <th></th>\n",
       "    </tr>\n",
       "  </thead>\n",
       "  <tbody>\n",
       "    <tr>\n",
       "      <th>PC</th>\n",
       "      <td>6381.745507</td>\n",
       "      <td>6.269169</td>\n",
       "    </tr>\n",
       "    <tr>\n",
       "      <th>PS4</th>\n",
       "      <td>6130.497294</td>\n",
       "      <td>6.084996</td>\n",
       "    </tr>\n",
       "    <tr>\n",
       "      <th>XBox</th>\n",
       "      <td>6176.398900</td>\n",
       "      <td>6.132960</td>\n",
       "    </tr>\n",
       "  </tbody>\n",
       "</table>\n",
       "</div>"
      ],
      "text/plain": [
       "                 cash     money\n",
       "platform                       \n",
       "PC        6381.745507  6.269169\n",
       "PS4       6130.497294  6.084996\n",
       "XBox      6176.398900  6.132960"
      ]
     },
     "execution_count": 33,
     "metadata": {},
     "output_type": "execute_result"
    }
   ],
   "source": [
    "common_4[common_4['group'] == 'test'].groupby('platform').mean('cash', 'money')"
   ]
  },
  {
   "cell_type": "markdown",
   "id": "7983886b-c523-4a8e-a541-2c4e125d17ee",
   "metadata": {},
   "source": [
    "# ARPPU"
   ]
  },
  {
   "cell_type": "code",
   "execution_count": 42,
   "id": "51221427-f900-4044-9153-5d6877d202b1",
   "metadata": {},
   "outputs": [
    {
     "data": {
      "text/html": [
       "<div>\n",
       "<style scoped>\n",
       "    .dataframe tbody tr th:only-of-type {\n",
       "        vertical-align: middle;\n",
       "    }\n",
       "\n",
       "    .dataframe tbody tr th {\n",
       "        vertical-align: top;\n",
       "    }\n",
       "\n",
       "    .dataframe thead th {\n",
       "        text-align: right;\n",
       "    }\n",
       "</style>\n",
       "<table border=\"1\" class=\"dataframe\">\n",
       "  <thead>\n",
       "    <tr style=\"text-align: right;\">\n",
       "      <th></th>\n",
       "      <th>cash</th>\n",
       "      <th>money</th>\n",
       "    </tr>\n",
       "    <tr>\n",
       "      <th>platform</th>\n",
       "      <th></th>\n",
       "      <th></th>\n",
       "    </tr>\n",
       "  </thead>\n",
       "  <tbody>\n",
       "    <tr>\n",
       "      <th>PC</th>\n",
       "      <td>5587.930881</td>\n",
       "      <td>5.648400</td>\n",
       "    </tr>\n",
       "    <tr>\n",
       "      <th>PS4</th>\n",
       "      <td>5682.680828</td>\n",
       "      <td>5.739567</td>\n",
       "    </tr>\n",
       "    <tr>\n",
       "      <th>XBox</th>\n",
       "      <td>6132.212831</td>\n",
       "      <td>6.104508</td>\n",
       "    </tr>\n",
       "  </tbody>\n",
       "</table>\n",
       "</div>"
      ],
      "text/plain": [
       "                 cash     money\n",
       "platform                       \n",
       "PC        5587.930881  5.648400\n",
       "PS4       5682.680828  5.739567\n",
       "XBox      6132.212831  6.104508"
      ]
     },
     "execution_count": 42,
     "metadata": {},
     "output_type": "execute_result"
    }
   ],
   "source": [
    "common_4[(common_4['money'] != 0) & (common_4['group'] == 'control')].groupby('platform').mean('cash', 'money')"
   ]
  },
  {
   "cell_type": "code",
   "execution_count": 43,
   "id": "d4bd38fe-897a-41ba-8d8a-1660444b4801",
   "metadata": {},
   "outputs": [
    {
     "data": {
      "text/html": [
       "<div>\n",
       "<style scoped>\n",
       "    .dataframe tbody tr th:only-of-type {\n",
       "        vertical-align: middle;\n",
       "    }\n",
       "\n",
       "    .dataframe tbody tr th {\n",
       "        vertical-align: top;\n",
       "    }\n",
       "\n",
       "    .dataframe thead th {\n",
       "        text-align: right;\n",
       "    }\n",
       "</style>\n",
       "<table border=\"1\" class=\"dataframe\">\n",
       "  <thead>\n",
       "    <tr style=\"text-align: right;\">\n",
       "      <th></th>\n",
       "      <th>cash</th>\n",
       "      <th>money</th>\n",
       "    </tr>\n",
       "    <tr>\n",
       "      <th>platform</th>\n",
       "      <th></th>\n",
       "      <th></th>\n",
       "    </tr>\n",
       "  </thead>\n",
       "  <tbody>\n",
       "    <tr>\n",
       "      <th>PC</th>\n",
       "      <td>6382.059767</td>\n",
       "      <td>6.269832</td>\n",
       "    </tr>\n",
       "    <tr>\n",
       "      <th>PS4</th>\n",
       "      <td>6130.929246</td>\n",
       "      <td>6.085980</td>\n",
       "    </tr>\n",
       "    <tr>\n",
       "      <th>XBox</th>\n",
       "      <td>6176.844143</td>\n",
       "      <td>6.133880</td>\n",
       "    </tr>\n",
       "  </tbody>\n",
       "</table>\n",
       "</div>"
      ],
      "text/plain": [
       "                 cash     money\n",
       "platform                       \n",
       "PC        6382.059767  6.269832\n",
       "PS4       6130.929246  6.085980\n",
       "XBox      6176.844143  6.133880"
      ]
     },
     "execution_count": 43,
     "metadata": {},
     "output_type": "execute_result"
    }
   ],
   "source": [
    "common_4[(common_4['money'] != 0) & (common_4['group'] == 'test')].groupby('platform').mean('cash', 'money')"
   ]
  },
  {
   "cell_type": "code",
   "execution_count": 51,
   "id": "ab533122-5fe1-4141-99c4-0b8794e7375c",
   "metadata": {},
   "outputs": [
    {
     "data": {
      "text/html": [
       "<div>\n",
       "<style scoped>\n",
       "    .dataframe tbody tr th:only-of-type {\n",
       "        vertical-align: middle;\n",
       "    }\n",
       "\n",
       "    .dataframe tbody tr th {\n",
       "        vertical-align: top;\n",
       "    }\n",
       "\n",
       "    .dataframe thead th {\n",
       "        text-align: right;\n",
       "    }\n",
       "</style>\n",
       "<table border=\"1\" class=\"dataframe\">\n",
       "  <thead>\n",
       "    <tr style=\"text-align: right;\">\n",
       "      <th></th>\n",
       "      <th>platform</th>\n",
       "      <th>cash</th>\n",
       "      <th>money</th>\n",
       "      <th>group</th>\n",
       "    </tr>\n",
       "  </thead>\n",
       "  <tbody>\n",
       "    <tr>\n",
       "      <th>0</th>\n",
       "      <td>PC</td>\n",
       "      <td>5587.069071</td>\n",
       "      <td>5.646294</td>\n",
       "      <td>control</td>\n",
       "    </tr>\n",
       "    <tr>\n",
       "      <th>1</th>\n",
       "      <td>PS4</td>\n",
       "      <td>5681.940466</td>\n",
       "      <td>5.737843</td>\n",
       "      <td>control</td>\n",
       "    </tr>\n",
       "    <tr>\n",
       "      <th>2</th>\n",
       "      <td>XBox</td>\n",
       "      <td>6131.786745</td>\n",
       "      <td>6.103629</td>\n",
       "      <td>control</td>\n",
       "    </tr>\n",
       "    <tr>\n",
       "      <th>3</th>\n",
       "      <td>PC</td>\n",
       "      <td>6381.745507</td>\n",
       "      <td>6.269169</td>\n",
       "      <td>test</td>\n",
       "    </tr>\n",
       "    <tr>\n",
       "      <th>4</th>\n",
       "      <td>PS4</td>\n",
       "      <td>6130.497294</td>\n",
       "      <td>6.084996</td>\n",
       "      <td>test</td>\n",
       "    </tr>\n",
       "    <tr>\n",
       "      <th>5</th>\n",
       "      <td>XBox</td>\n",
       "      <td>6176.398900</td>\n",
       "      <td>6.132960</td>\n",
       "      <td>test</td>\n",
       "    </tr>\n",
       "  </tbody>\n",
       "</table>\n",
       "</div>"
      ],
      "text/plain": [
       "  platform         cash     money    group\n",
       "0       PC  5587.069071  5.646294  control\n",
       "1      PS4  5681.940466  5.737843  control\n",
       "2     XBox  6131.786745  6.103629  control\n",
       "3       PC  6381.745507  6.269169     test\n",
       "4      PS4  6130.497294  6.084996     test\n",
       "5     XBox  6176.398900  6.132960     test"
      ]
     },
     "execution_count": 51,
     "metadata": {},
     "output_type": "execute_result"
    }
   ],
   "source": [
    "arpu1 = common_4[common_4['group'] == 'control'].groupby('platform', as_index=False).mean('cash', 'money')\n",
    "arpu1.insert(loc= 3 , column='group', value='control')\n",
    "arpu2 = common_4[common_4['group'] == 'test'].groupby('platform', as_index=False).mean('cash', 'money')\n",
    "arpu2.insert(loc= 3 , column='group', value='test')\n",
    "arpu = pd.concat([arpu1, arpu2], ignore_index= True)\n",
    "arpu"
   ]
  }
 ],
 "metadata": {
  "kernelspec": {
   "display_name": "Python 3 (ipykernel)",
   "language": "python",
   "name": "python3"
  },
  "language_info": {
   "codemirror_mode": {
    "name": "ipython",
    "version": 3
   },
   "file_extension": ".py",
   "mimetype": "text/x-python",
   "name": "python",
   "nbconvert_exporter": "python",
   "pygments_lexer": "ipython3",
   "version": "3.12.4"
  }
 },
 "nbformat": 4,
 "nbformat_minor": 5
}
