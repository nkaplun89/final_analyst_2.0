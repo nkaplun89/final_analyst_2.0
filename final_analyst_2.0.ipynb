{
 "cells": [
  {
   "cell_type": "code",
   "execution_count": 73,
   "id": "9dd275a3",
   "metadata": {},
   "outputs": [],
   "source": [
    "import pandas as pd\n",
    "import numpy as np\n",
    "import matplotlib.pyplot as plt\n",
    "import seaborn as sns\n",
    "import scipy.special as sps\n",
    "from scipy import *\n",
    "import warnings\n",
    "from scipy.stats import kurtosis\n",
    "from scipy.stats import skew\n",
    "from scipy import stats\n",
    "import statsmodels.api as sm"
   ]
  },
  {
   "cell_type": "code",
   "execution_count": 74,
   "id": "ea06235f",
   "metadata": {},
   "outputs": [],
   "source": [
    "df_abgr = pd.read_csv('ABgroup.csv').drop_duplicates(subset = 'user_id')\n",
    "df_cheat = pd.read_csv('Cheaters.csv').drop_duplicates(subset = 'user_id')\n",
    "df_pltfrm = pd.read_csv('Platforms.csv').drop_duplicates(subset = 'user_id')\n",
    "df_money = pd.read_csv('Money.csv')\n",
    "df_cash = pd.read_csv('Cash.csv')"
   ]
  },
  {
   "cell_type": "code",
   "execution_count": 75,
   "id": "028ef651",
   "metadata": {},
   "outputs": [],
   "source": [
    "apc = pd.merge(df_abgr, df_pltfrm, on = 'user_id')\n",
    "apc = apc.merge(df_cheat, on = 'user_id')"
   ]
  },
  {
   "cell_type": "code",
   "execution_count": 76,
   "id": "12e3e1b2",
   "metadata": {},
   "outputs": [],
   "source": [
    "mc = pd.merge(df_money, df_cash)"
   ]
  },
  {
   "cell_type": "code",
   "execution_count": 77,
   "id": "8f90c499",
   "metadata": {},
   "outputs": [],
   "source": [
    "common = pd.merge(mc, apc, on = ['user_id'])"
   ]
  },
  {
   "cell_type": "code",
   "execution_count": 78,
   "id": "8a9f792b",
   "metadata": {},
   "outputs": [
    {
     "data": {
      "text/html": [
       "<div>\n",
       "<style scoped>\n",
       "    .dataframe tbody tr th:only-of-type {\n",
       "        vertical-align: middle;\n",
       "    }\n",
       "\n",
       "    .dataframe tbody tr th {\n",
       "        vertical-align: top;\n",
       "    }\n",
       "\n",
       "    .dataframe thead th {\n",
       "        text-align: right;\n",
       "    }\n",
       "</style>\n",
       "<table border=\"1\" class=\"dataframe\">\n",
       "  <thead>\n",
       "    <tr style=\"text-align: right;\">\n",
       "      <th></th>\n",
       "      <th>user_id</th>\n",
       "      <th>date</th>\n",
       "      <th>money</th>\n",
       "      <th>cash</th>\n",
       "      <th>group</th>\n",
       "      <th>platform</th>\n",
       "      <th>cheaters</th>\n",
       "    </tr>\n",
       "  </thead>\n",
       "  <tbody>\n",
       "    <tr>\n",
       "      <th>0</th>\n",
       "      <td>N4TS2T-P7YTVX</td>\n",
       "      <td>15.07.2021</td>\n",
       "      <td>1.99</td>\n",
       "      <td>1150</td>\n",
       "      <td>test</td>\n",
       "      <td>PS4</td>\n",
       "      <td>0</td>\n",
       "    </tr>\n",
       "    <tr>\n",
       "      <th>1</th>\n",
       "      <td>N4TS2T-P7YTVX</td>\n",
       "      <td>17.07.2021</td>\n",
       "      <td>0.99</td>\n",
       "      <td>1400</td>\n",
       "      <td>test</td>\n",
       "      <td>PS4</td>\n",
       "      <td>0</td>\n",
       "    </tr>\n",
       "    <tr>\n",
       "      <th>2</th>\n",
       "      <td>N4TS2T-P7YTVX</td>\n",
       "      <td>13.07.2021</td>\n",
       "      <td>0.99</td>\n",
       "      <td>150</td>\n",
       "      <td>test</td>\n",
       "      <td>PS4</td>\n",
       "      <td>0</td>\n",
       "    </tr>\n",
       "    <tr>\n",
       "      <th>3</th>\n",
       "      <td>N4TS2T-P7YTVX</td>\n",
       "      <td>10.07.2021</td>\n",
       "      <td>0.00</td>\n",
       "      <td>800</td>\n",
       "      <td>test</td>\n",
       "      <td>PS4</td>\n",
       "      <td>0</td>\n",
       "    </tr>\n",
       "    <tr>\n",
       "      <th>4</th>\n",
       "      <td>N4TS2T-P7YTVX</td>\n",
       "      <td>16.07.2021</td>\n",
       "      <td>0.00</td>\n",
       "      <td>400</td>\n",
       "      <td>test</td>\n",
       "      <td>PS4</td>\n",
       "      <td>0</td>\n",
       "    </tr>\n",
       "    <tr>\n",
       "      <th>...</th>\n",
       "      <td>...</td>\n",
       "      <td>...</td>\n",
       "      <td>...</td>\n",
       "      <td>...</td>\n",
       "      <td>...</td>\n",
       "      <td>...</td>\n",
       "      <td>...</td>\n",
       "    </tr>\n",
       "    <tr>\n",
       "      <th>8639995</th>\n",
       "      <td>2NLQHQ-BSFSL5</td>\n",
       "      <td>11.07.2021</td>\n",
       "      <td>1.99</td>\n",
       "      <td>1200</td>\n",
       "      <td>test</td>\n",
       "      <td>PC</td>\n",
       "      <td>0</td>\n",
       "    </tr>\n",
       "    <tr>\n",
       "      <th>8639996</th>\n",
       "      <td>2NLQHQ-BSFSL5</td>\n",
       "      <td>14.07.2021</td>\n",
       "      <td>1.99</td>\n",
       "      <td>1200</td>\n",
       "      <td>test</td>\n",
       "      <td>PC</td>\n",
       "      <td>0</td>\n",
       "    </tr>\n",
       "    <tr>\n",
       "      <th>8639997</th>\n",
       "      <td>2NLQHQ-BSFSL5</td>\n",
       "      <td>16.07.2021</td>\n",
       "      <td>0.99</td>\n",
       "      <td>950</td>\n",
       "      <td>test</td>\n",
       "      <td>PC</td>\n",
       "      <td>0</td>\n",
       "    </tr>\n",
       "    <tr>\n",
       "      <th>8639998</th>\n",
       "      <td>2NLQHQ-BSFSL5</td>\n",
       "      <td>17.07.2021</td>\n",
       "      <td>3.99</td>\n",
       "      <td>2850</td>\n",
       "      <td>test</td>\n",
       "      <td>PC</td>\n",
       "      <td>0</td>\n",
       "    </tr>\n",
       "    <tr>\n",
       "      <th>8639999</th>\n",
       "      <td>2NLQHQ-BSFSL5</td>\n",
       "      <td>15.07.2021</td>\n",
       "      <td>0.00</td>\n",
       "      <td>850</td>\n",
       "      <td>test</td>\n",
       "      <td>PC</td>\n",
       "      <td>0</td>\n",
       "    </tr>\n",
       "  </tbody>\n",
       "</table>\n",
       "<p>8640000 rows × 7 columns</p>\n",
       "</div>"
      ],
      "text/plain": [
       "               user_id        date  money  cash group platform  cheaters\n",
       "0        N4TS2T-P7YTVX  15.07.2021   1.99  1150  test      PS4         0\n",
       "1        N4TS2T-P7YTVX  17.07.2021   0.99  1400  test      PS4         0\n",
       "2        N4TS2T-P7YTVX  13.07.2021   0.99   150  test      PS4         0\n",
       "3        N4TS2T-P7YTVX  10.07.2021   0.00   800  test      PS4         0\n",
       "4        N4TS2T-P7YTVX  16.07.2021   0.00   400  test      PS4         0\n",
       "...                ...         ...    ...   ...   ...      ...       ...\n",
       "8639995  2NLQHQ-BSFSL5  11.07.2021   1.99  1200  test       PC         0\n",
       "8639996  2NLQHQ-BSFSL5  14.07.2021   1.99  1200  test       PC         0\n",
       "8639997  2NLQHQ-BSFSL5  16.07.2021   0.99   950  test       PC         0\n",
       "8639998  2NLQHQ-BSFSL5  17.07.2021   3.99  2850  test       PC         0\n",
       "8639999  2NLQHQ-BSFSL5  15.07.2021   0.00   850  test       PC         0\n",
       "\n",
       "[8640000 rows x 7 columns]"
      ]
     },
     "execution_count": 78,
     "metadata": {},
     "output_type": "execute_result"
    }
   ],
   "source": [
    "common"
   ]
  },
  {
   "cell_type": "code",
   "execution_count": 79,
   "id": "d0d2d903",
   "metadata": {},
   "outputs": [],
   "source": [
    "df1 = common.groupby('user_id')[['money', 'cash']].sum()\n",
    "df1 = df1.reset_index()"
   ]
  },
  {
   "cell_type": "code",
   "execution_count": 80,
   "id": "83dcd51b",
   "metadata": {},
   "outputs": [],
   "source": [
    "df2 = df_cheat[df_cheat['cheaters'] == 1].drop_duplicates(subset = 'user_id')\n",
    "df2.drop('cheaters', axis= 1 , inplace= True)"
   ]
  },
  {
   "cell_type": "code",
   "execution_count": 81,
   "id": "06581f1d",
   "metadata": {},
   "outputs": [],
   "source": [
    "df3 = pd.merge(df2, df1, on = 'user_id')"
   ]
  },
  {
   "cell_type": "code",
   "execution_count": 82,
   "id": "1da48f34",
   "metadata": {
    "scrolled": true
   },
   "outputs": [],
   "source": [
    "df4 = pd.concat([df1, df2], ignore_index= True)\n",
    "df4 = df4.drop_duplicates(subset = 'user_id', keep = False)"
   ]
  },
  {
   "cell_type": "code",
   "execution_count": 83,
   "id": "00834ed8",
   "metadata": {},
   "outputs": [
    {
     "data": {
      "text/html": [
       "<div>\n",
       "<style scoped>\n",
       "    .dataframe tbody tr th:only-of-type {\n",
       "        vertical-align: middle;\n",
       "    }\n",
       "\n",
       "    .dataframe tbody tr th {\n",
       "        vertical-align: top;\n",
       "    }\n",
       "\n",
       "    .dataframe thead th {\n",
       "        text-align: right;\n",
       "    }\n",
       "</style>\n",
       "<table border=\"1\" class=\"dataframe\">\n",
       "  <thead>\n",
       "    <tr style=\"text-align: right;\">\n",
       "      <th></th>\n",
       "      <th>user_id</th>\n",
       "      <th>cash</th>\n",
       "    </tr>\n",
       "  </thead>\n",
       "  <tbody>\n",
       "    <tr>\n",
       "      <th>0</th>\n",
       "      <td>00036L-1T885I</td>\n",
       "      <td>2900</td>\n",
       "    </tr>\n",
       "    <tr>\n",
       "      <th>1</th>\n",
       "      <td>0004MK-MRBUKF</td>\n",
       "      <td>2050</td>\n",
       "    </tr>\n",
       "    <tr>\n",
       "      <th>2</th>\n",
       "      <td>0004MK-VW0O9L</td>\n",
       "      <td>1500</td>\n",
       "    </tr>\n",
       "    <tr>\n",
       "      <th>3</th>\n",
       "      <td>0005S4-UEC6BE</td>\n",
       "      <td>550</td>\n",
       "    </tr>\n",
       "    <tr>\n",
       "      <th>4</th>\n",
       "      <td>0007I5-EWUD6O</td>\n",
       "      <td>850</td>\n",
       "    </tr>\n",
       "    <tr>\n",
       "      <th>...</th>\n",
       "      <td>...</td>\n",
       "      <td>...</td>\n",
       "    </tr>\n",
       "    <tr>\n",
       "      <th>1070526</th>\n",
       "      <td>ZZZPEX-P2T8BH</td>\n",
       "      <td>1350</td>\n",
       "    </tr>\n",
       "    <tr>\n",
       "      <th>1070527</th>\n",
       "      <td>ZZZTEN-0QGZ3X</td>\n",
       "      <td>900</td>\n",
       "    </tr>\n",
       "    <tr>\n",
       "      <th>1070528</th>\n",
       "      <td>ZZZTR5-QSI6D3</td>\n",
       "      <td>4900</td>\n",
       "    </tr>\n",
       "    <tr>\n",
       "      <th>1070529</th>\n",
       "      <td>ZZZV9K-NM9B4Z</td>\n",
       "      <td>2300</td>\n",
       "    </tr>\n",
       "    <tr>\n",
       "      <th>1070530</th>\n",
       "      <td>ZZZVH1-2OJT7I</td>\n",
       "      <td>1700</td>\n",
       "    </tr>\n",
       "  </tbody>\n",
       "</table>\n",
       "<p>1070531 rows × 2 columns</p>\n",
       "</div>"
      ],
      "text/plain": [
       "               user_id  cash\n",
       "0        00036L-1T885I  2900\n",
       "1        0004MK-MRBUKF  2050\n",
       "2        0004MK-VW0O9L  1500\n",
       "3        0005S4-UEC6BE   550\n",
       "4        0007I5-EWUD6O   850\n",
       "...                ...   ...\n",
       "1070526  ZZZPEX-P2T8BH  1350\n",
       "1070527  ZZZTEN-0QGZ3X   900\n",
       "1070528  ZZZTR5-QSI6D3  4900\n",
       "1070529  ZZZV9K-NM9B4Z  2300\n",
       "1070530  ZZZVH1-2OJT7I  1700\n",
       "\n",
       "[1070531 rows x 2 columns]"
      ]
     },
     "execution_count": 83,
     "metadata": {},
     "output_type": "execute_result"
    }
   ],
   "source": [
    "new_cheat = pd.merge(df_money, df_cash)\n",
    "new_cheat = new_cheat.merge(df_cheat)\n",
    "new_cheat.drop('date', axis= 1 , inplace= True)\n",
    "new_cheat = new_cheat.loc[new_cheat['cheaters'] != 1]\n",
    "new_cheat.drop('cheaters', axis= 1 , inplace= True)\n",
    "new_cheat = new_cheat.loc[new_cheat['money'] == 0]\n",
    "new_cheat.drop('money', axis= 1 , inplace= True)\n",
    "new_cheat = new_cheat.groupby(['user_id'], as_index=False).sum()\n",
    "new_cheat"
   ]
  },
  {
   "cell_type": "code",
   "execution_count": 84,
   "id": "381fbd7d",
   "metadata": {
    "scrolled": true
   },
   "outputs": [],
   "source": [
    "Q1 = new_cheat.cash.quantile(0.25)\n",
    "Q3 = new_cheat.cash.quantile(0.75)\n",
    "IQR = Q3 - Q1\n",
    "lower = Q1 - (3 * IQR) \n",
    "upper = Q3 + (3 * IQR)\n",
    "new_cheat = new_cheat[(new_cheat.cash < lower) | (new_cheat.cash > upper)]"
   ]
  },
  {
   "cell_type": "code",
   "execution_count": 85,
   "id": "6817a3c9",
   "metadata": {},
   "outputs": [
    {
     "data": {
      "text/plain": [
       "374"
      ]
     },
     "execution_count": 85,
     "metadata": {},
     "output_type": "execute_result"
    }
   ],
   "source": [
    "len(new_cheat)"
   ]
  },
  {
   "cell_type": "code",
   "execution_count": 86,
   "id": "71821988",
   "metadata": {},
   "outputs": [
    {
     "data": {
      "text/plain": [
       "<Axes: >"
      ]
     },
     "execution_count": 86,
     "metadata": {},
     "output_type": "execute_result"
    },
    {
     "data": {
      "image/png": "[encoded data removed]",
      "text/plain": [
       "<Figure size 640x480 with 1 Axes>"
      ]
     },
     "metadata": {},
     "output_type": "display_data"
    }
   ],
   "source": [
    "new_cheat.plot()"
   ]
  },
  {
   "cell_type": "code",
   "execution_count": 87,
   "id": "4a18dae4",
   "metadata": {},
   "outputs": [
    {
     "data": {
      "text/plain": [
       "(37841.01325121787, 240740.8049306003)"
      ]
     },
     "execution_count": 87,
     "metadata": {},
     "output_type": "execute_result"
    }
   ],
   "source": [
    "def confidence_interval(df=new_cheat, column = \"cash\", alpha = 0.95):\n",
    "    interval = stats.norm.interval(alpha, loc=df[column].mean(), scale=df[column].std())\n",
    "    return interval\n",
    "confidence = confidence_interval()\n",
    "confidence"
   ]
  },
  {
   "cell_type": "code",
   "execution_count": 88,
   "id": "c2069315",
   "metadata": {},
   "outputs": [
    {
     "data": {
      "text/plain": [
       "Text(0.5, 1.0, 'Доверительный интервал')"
      ]
     },
     "execution_count": 88,
     "metadata": {},
     "output_type": "execute_result"
    },
    {
     "data": {
      "image/png": "[encoded data removed]",
      "text/plain": [
       "<Figure size 640x480 with 1 Axes>"
      ]
     },
     "metadata": {},
     "output_type": "display_data"
    }
   ],
   "source": [
    "new_cheat.cash.plot()\n",
    "plt.axhline(y=confidence[1], color=\"g\", linestyle=\"-\")\n",
    "plt.axhline(y=confidence[0], color=\"r\", linestyle=\"-\")\n",
    "plt.title(\"Доверительный интервал\")"
   ]
  },
  {
   "cell_type": "code",
   "execution_count": 89,
   "id": "45a9028a",
   "metadata": {},
   "outputs": [],
   "source": [
    "for i in new_cheat.cash:\n",
    "    if i < confidence[0]:\n",
    "        new_cheat = new_cheat[new_cheat.cash != i]"
   ]
  },
  {
   "cell_type": "code",
   "execution_count": 90,
   "id": "c58d5218",
   "metadata": {},
   "outputs": [
    {
     "data": {
      "text/html": [
       "<div>\n",
       "<style scoped>\n",
       "    .dataframe tbody tr th:only-of-type {\n",
       "        vertical-align: middle;\n",
       "    }\n",
       "\n",
       "    .dataframe tbody tr th {\n",
       "        vertical-align: top;\n",
       "    }\n",
       "\n",
       "    .dataframe thead th {\n",
       "        text-align: right;\n",
       "    }\n",
       "</style>\n",
       "<table border=\"1\" class=\"dataframe\">\n",
       "  <thead>\n",
       "    <tr style=\"text-align: right;\">\n",
       "      <th></th>\n",
       "      <th>user_id</th>\n",
       "      <th>cash</th>\n",
       "    </tr>\n",
       "  </thead>\n",
       "  <tbody>\n",
       "    <tr>\n",
       "      <th>1839</th>\n",
       "      <td>027YD0-7N2S50</td>\n",
       "      <td>203400</td>\n",
       "    </tr>\n",
       "    <tr>\n",
       "      <th>7426</th>\n",
       "      <td>091QZN-XYWQ8D</td>\n",
       "      <td>78500</td>\n",
       "    </tr>\n",
       "    <tr>\n",
       "      <th>11792</th>\n",
       "      <td>0E95BB-LTAHXQ</td>\n",
       "      <td>166000</td>\n",
       "    </tr>\n",
       "    <tr>\n",
       "      <th>13557</th>\n",
       "      <td>0GCX0G-5BZ6HE</td>\n",
       "      <td>122650</td>\n",
       "    </tr>\n",
       "    <tr>\n",
       "      <th>13659</th>\n",
       "      <td>0GH23F-XS6VSB</td>\n",
       "      <td>152150</td>\n",
       "    </tr>\n",
       "    <tr>\n",
       "      <th>...</th>\n",
       "      <td>...</td>\n",
       "      <td>...</td>\n",
       "    </tr>\n",
       "    <tr>\n",
       "      <th>1062790</th>\n",
       "      <td>ZQNX2R-TGBYZ0</td>\n",
       "      <td>147200</td>\n",
       "    </tr>\n",
       "    <tr>\n",
       "      <th>1063700</th>\n",
       "      <td>ZRQNJL-5G1WXO</td>\n",
       "      <td>97950</td>\n",
       "    </tr>\n",
       "    <tr>\n",
       "      <th>1065973</th>\n",
       "      <td>ZUEJJE-KN8O77</td>\n",
       "      <td>121400</td>\n",
       "    </tr>\n",
       "    <tr>\n",
       "      <th>1066925</th>\n",
       "      <td>ZVKT51-78VHI9</td>\n",
       "      <td>214500</td>\n",
       "    </tr>\n",
       "    <tr>\n",
       "      <th>1067655</th>\n",
       "      <td>ZWHACF-Z2J5IA</td>\n",
       "      <td>111100</td>\n",
       "    </tr>\n",
       "  </tbody>\n",
       "</table>\n",
       "<p>343 rows × 2 columns</p>\n",
       "</div>"
      ],
      "text/plain": [
       "               user_id    cash\n",
       "1839     027YD0-7N2S50  203400\n",
       "7426     091QZN-XYWQ8D   78500\n",
       "11792    0E95BB-LTAHXQ  166000\n",
       "13557    0GCX0G-5BZ6HE  122650\n",
       "13659    0GH23F-XS6VSB  152150\n",
       "...                ...     ...\n",
       "1062790  ZQNX2R-TGBYZ0  147200\n",
       "1063700  ZRQNJL-5G1WXO   97950\n",
       "1065973  ZUEJJE-KN8O77  121400\n",
       "1066925  ZVKT51-78VHI9  214500\n",
       "1067655  ZWHACF-Z2J5IA  111100\n",
       "\n",
       "[343 rows x 2 columns]"
      ]
     },
     "execution_count": 90,
     "metadata": {},
     "output_type": "execute_result"
    }
   ],
   "source": [
    "new_cheat"
   ]
  },
  {
   "cell_type": "code",
   "execution_count": 91,
   "id": "6120ce38",
   "metadata": {},
   "outputs": [
    {
     "data": {
      "text/plain": [
       "Text(0.5, 1.0, 'Доверительный интервал')"
      ]
     },
     "execution_count": 91,
     "metadata": {},
     "output_type": "execute_result"
    },
    {
     "data": {
      "image/png": "[encoded data removed]",
      "text/plain": [
       "<Figure size 640x480 with 1 Axes>"
      ]
     },
     "metadata": {},
     "output_type": "display_data"
    }
   ],
   "source": [
    "new_cheat.cash.plot()\n",
    "plt.axhline(y=confidence[1], color=\"g\", linestyle=\"-\")\n",
    "plt.axhline(y=confidence[0], color=\"r\", linestyle=\"-\")\n",
    "plt.title(\"Доверительный интервал\")"
   ]
  },
  {
   "cell_type": "code",
   "execution_count": 92,
   "id": "ca6df64f",
   "metadata": {},
   "outputs": [],
   "source": [
    "clean = pd.concat([new_cheat, df4])\n",
    "clean = clean.drop_duplicates(subset = 'user_id', keep = False)"
   ]
  },
  {
   "cell_type": "code",
   "execution_count": 93,
   "id": "6c74a44c",
   "metadata": {},
   "outputs": [
    {
     "data": {
      "text/plain": [
       "<Axes: >"
      ]
     },
     "execution_count": 93,
     "metadata": {},
     "output_type": "execute_result"
    },
    {
     "data": {
      "image/png": "[encoded data removed]",
      "text/plain": [
       "<Figure size 640x480 with 1 Axes>"
      ]
     },
     "metadata": {},
     "output_type": "display_data"
    }
   ],
   "source": [
    "clean.cash.plot()"
   ]
  },
  {
   "cell_type": "code",
   "execution_count": 94,
   "id": "5dc34527",
   "metadata": {},
   "outputs": [],
   "source": [
    "q1 = clean.cash.quantile(0.25)\n",
    "q3 = clean.cash.quantile(0.75)\n",
    "iqr = q3 - q1\n",
    "low = q1 - (1.5 * iqr) \n",
    "up = q3 + (3 * iqr)"
   ]
  },
  {
   "cell_type": "code",
   "execution_count": 95,
   "id": "2a8fbe3d",
   "metadata": {},
   "outputs": [
    {
     "data": {
      "text/html": [
       "<div>\n",
       "<style scoped>\n",
       "    .dataframe tbody tr th:only-of-type {\n",
       "        vertical-align: middle;\n",
       "    }\n",
       "\n",
       "    .dataframe tbody tr th {\n",
       "        vertical-align: top;\n",
       "    }\n",
       "\n",
       "    .dataframe thead th {\n",
       "        text-align: right;\n",
       "    }\n",
       "</style>\n",
       "<table border=\"1\" class=\"dataframe\">\n",
       "  <thead>\n",
       "    <tr style=\"text-align: right;\">\n",
       "      <th></th>\n",
       "      <th>user_id</th>\n",
       "      <th>cash</th>\n",
       "      <th>money</th>\n",
       "    </tr>\n",
       "  </thead>\n",
       "  <tbody>\n",
       "    <tr>\n",
       "      <th>131247</th>\n",
       "      <td>4DBX3L-2LHKON</td>\n",
       "      <td>20700.0</td>\n",
       "      <td>0.00</td>\n",
       "    </tr>\n",
       "    <tr>\n",
       "      <th>218951</th>\n",
       "      <td>7AJHSG-INMTKY</td>\n",
       "      <td>12700.0</td>\n",
       "      <td>12.95</td>\n",
       "    </tr>\n",
       "    <tr>\n",
       "      <th>882461</th>\n",
       "      <td>TF1GNR-J53YKF</td>\n",
       "      <td>13250.0</td>\n",
       "      <td>15.94</td>\n",
       "    </tr>\n",
       "  </tbody>\n",
       "</table>\n",
       "</div>"
      ],
      "text/plain": [
       "              user_id     cash  money\n",
       "131247  4DBX3L-2LHKON  20700.0   0.00\n",
       "218951  7AJHSG-INMTKY  12700.0  12.95\n",
       "882461  TF1GNR-J53YKF  13250.0  15.94"
      ]
     },
     "execution_count": 95,
     "metadata": {},
     "output_type": "execute_result"
    }
   ],
   "source": [
    "q = clean[(clean.cash > up)]\n",
    "q"
   ]
  },
  {
   "cell_type": "code",
   "execution_count": 96,
   "id": "184f6056",
   "metadata": {},
   "outputs": [
    {
     "data": {
      "text/plain": [
       "user_id    TF1GNR-J53YKF\n",
       "cash             20700.0\n",
       "money              15.94\n",
       "dtype: object"
      ]
     },
     "execution_count": 96,
     "metadata": {},
     "output_type": "execute_result"
    }
   ],
   "source": [
    "q.max()"
   ]
  },
  {
   "cell_type": "code",
   "execution_count": 97,
   "id": "2b221035",
   "metadata": {},
   "outputs": [
    {
     "data": {
      "text/html": [
       "<div>\n",
       "<style scoped>\n",
       "    .dataframe tbody tr th:only-of-type {\n",
       "        vertical-align: middle;\n",
       "    }\n",
       "\n",
       "    .dataframe tbody tr th {\n",
       "        vertical-align: top;\n",
       "    }\n",
       "\n",
       "    .dataframe thead th {\n",
       "        text-align: right;\n",
       "    }\n",
       "</style>\n",
       "<table border=\"1\" class=\"dataframe\">\n",
       "  <thead>\n",
       "    <tr style=\"text-align: right;\">\n",
       "      <th></th>\n",
       "      <th>user_id</th>\n",
       "      <th>cash</th>\n",
       "      <th>money</th>\n",
       "    </tr>\n",
       "  </thead>\n",
       "  <tbody>\n",
       "    <tr>\n",
       "      <th>131247</th>\n",
       "      <td>4DBX3L-2LHKON</td>\n",
       "      <td>20700.0</td>\n",
       "      <td>0.0</td>\n",
       "    </tr>\n",
       "  </tbody>\n",
       "</table>\n",
       "</div>"
      ],
      "text/plain": [
       "              user_id     cash  money\n",
       "131247  4DBX3L-2LHKON  20700.0    0.0"
      ]
     },
     "execution_count": 97,
     "metadata": {},
     "output_type": "execute_result"
    }
   ],
   "source": [
    "q.loc[q.user_id == '4DBX3L-2LHKON']"
   ]
  },
  {
   "cell_type": "code",
   "execution_count": 98,
   "id": "194495a3",
   "metadata": {},
   "outputs": [
    {
     "data": {
      "text/plain": [
       "<Axes: >"
      ]
     },
     "execution_count": 98,
     "metadata": {},
     "output_type": "execute_result"
    },
    {
     "data": {
      "image/png": "[encoded data removed]",
      "text/plain": [
       "<Figure size 640x480 with 1 Axes>"
      ]
     },
     "metadata": {},
     "output_type": "display_data"
    }
   ],
   "source": [
    "clean = clean[clean.user_id != '4DBX3L-2LHKON']\n",
    "clean.cash.plot()"
   ]
  },
  {
   "cell_type": "code",
   "execution_count": 99,
   "id": "38d30e5e",
   "metadata": {
    "scrolled": true
   },
   "outputs": [
    {
     "data": {
      "image/png": "[encoded data removed]",
      "text/plain": [
       "<Figure size 640x480 with 1 Axes>"
      ]
     },
     "execution_count": 99,
     "metadata": {},
     "output_type": "execute_result"
    },
    {
     "data": {
      "image/png": "[encoded data removed]",
      "text/plain": [
       "<Figure size 640x480 with 1 Axes>"
      ]
     },
     "metadata": {},
     "output_type": "display_data"
    }
   ],
   "source": [
    "sm.qqplot(clean['cash'])"
   ]
  },
  {
   "cell_type": "code",
   "execution_count": 100,
   "id": "d8f4002a",
   "metadata": {
    "scrolled": true
   },
   "outputs": [
    {
     "data": {
      "text/plain": [
       "1079303"
      ]
     },
     "execution_count": 100,
     "metadata": {},
     "output_type": "execute_result"
    }
   ],
   "source": [
    "len(clean)"
   ]
  },
  {
   "cell_type": "code",
   "execution_count": 101,
   "id": "acd9d7bb",
   "metadata": {},
   "outputs": [],
   "source": [
    "common_2 = common.copy()\n",
    "common_2.drop('date', axis= 1 , inplace= True)\n",
    "common_2 = common_2.groupby(['user_id', 'group', 'platform'], as_index=False).sum()"
   ]
  },
  {
   "cell_type": "code",
   "execution_count": 102,
   "id": "d6e2b26b",
   "metadata": {},
   "outputs": [
    {
     "data": {
      "text/html": [
       "<div>\n",
       "<style scoped>\n",
       "    .dataframe tbody tr th:only-of-type {\n",
       "        vertical-align: middle;\n",
       "    }\n",
       "\n",
       "    .dataframe tbody tr th {\n",
       "        vertical-align: top;\n",
       "    }\n",
       "\n",
       "    .dataframe thead th {\n",
       "        text-align: right;\n",
       "    }\n",
       "</style>\n",
       "<table border=\"1\" class=\"dataframe\">\n",
       "  <thead>\n",
       "    <tr style=\"text-align: right;\">\n",
       "      <th></th>\n",
       "      <th>user_id</th>\n",
       "      <th>cash</th>\n",
       "      <th>money</th>\n",
       "      <th>group</th>\n",
       "      <th>platform</th>\n",
       "    </tr>\n",
       "  </thead>\n",
       "  <tbody>\n",
       "    <tr>\n",
       "      <th>0</th>\n",
       "      <td>00036L-1T885I</td>\n",
       "      <td>7600.0</td>\n",
       "      <td>3.97</td>\n",
       "      <td>control</td>\n",
       "      <td>XBox</td>\n",
       "    </tr>\n",
       "    <tr>\n",
       "      <th>1</th>\n",
       "      <td>0004MK-MRBUKF</td>\n",
       "      <td>6150.0</td>\n",
       "      <td>5.95</td>\n",
       "      <td>control</td>\n",
       "      <td>PS4</td>\n",
       "    </tr>\n",
       "    <tr>\n",
       "      <th>2</th>\n",
       "      <td>0004MK-VW0O9L</td>\n",
       "      <td>6300.0</td>\n",
       "      <td>4.96</td>\n",
       "      <td>test</td>\n",
       "      <td>PC</td>\n",
       "    </tr>\n",
       "    <tr>\n",
       "      <th>3</th>\n",
       "      <td>0005S4-UEC6BE</td>\n",
       "      <td>5000.0</td>\n",
       "      <td>5.95</td>\n",
       "      <td>test</td>\n",
       "      <td>PC</td>\n",
       "    </tr>\n",
       "    <tr>\n",
       "      <th>4</th>\n",
       "      <td>0007I5-EWUD6O</td>\n",
       "      <td>6350.0</td>\n",
       "      <td>6.94</td>\n",
       "      <td>test</td>\n",
       "      <td>PC</td>\n",
       "    </tr>\n",
       "    <tr>\n",
       "      <th>...</th>\n",
       "      <td>...</td>\n",
       "      <td>...</td>\n",
       "      <td>...</td>\n",
       "      <td>...</td>\n",
       "      <td>...</td>\n",
       "    </tr>\n",
       "    <tr>\n",
       "      <th>1079298</th>\n",
       "      <td>ZZZPEX-P2T8BH</td>\n",
       "      <td>6600.0</td>\n",
       "      <td>6.95</td>\n",
       "      <td>test</td>\n",
       "      <td>PC</td>\n",
       "    </tr>\n",
       "    <tr>\n",
       "      <th>1079299</th>\n",
       "      <td>ZZZTEN-0QGZ3X</td>\n",
       "      <td>4600.0</td>\n",
       "      <td>5.97</td>\n",
       "      <td>test</td>\n",
       "      <td>XBox</td>\n",
       "    </tr>\n",
       "    <tr>\n",
       "      <th>1079300</th>\n",
       "      <td>ZZZTR5-QSI6D3</td>\n",
       "      <td>5900.0</td>\n",
       "      <td>0.99</td>\n",
       "      <td>test</td>\n",
       "      <td>XBox</td>\n",
       "    </tr>\n",
       "    <tr>\n",
       "      <th>1079301</th>\n",
       "      <td>ZZZV9K-NM9B4Z</td>\n",
       "      <td>3900.0</td>\n",
       "      <td>3.97</td>\n",
       "      <td>control</td>\n",
       "      <td>PS4</td>\n",
       "    </tr>\n",
       "    <tr>\n",
       "      <th>1079302</th>\n",
       "      <td>ZZZVH1-2OJT7I</td>\n",
       "      <td>5250.0</td>\n",
       "      <td>3.96</td>\n",
       "      <td>control</td>\n",
       "      <td>PC</td>\n",
       "    </tr>\n",
       "  </tbody>\n",
       "</table>\n",
       "<p>1079303 rows × 5 columns</p>\n",
       "</div>"
      ],
      "text/plain": [
       "               user_id    cash  money    group platform\n",
       "0        00036L-1T885I  7600.0   3.97  control     XBox\n",
       "1        0004MK-MRBUKF  6150.0   5.95  control      PS4\n",
       "2        0004MK-VW0O9L  6300.0   4.96     test       PC\n",
       "3        0005S4-UEC6BE  5000.0   5.95     test       PC\n",
       "4        0007I5-EWUD6O  6350.0   6.94     test       PC\n",
       "...                ...     ...    ...      ...      ...\n",
       "1079298  ZZZPEX-P2T8BH  6600.0   6.95     test       PC\n",
       "1079299  ZZZTEN-0QGZ3X  4600.0   5.97     test     XBox\n",
       "1079300  ZZZTR5-QSI6D3  5900.0   0.99     test     XBox\n",
       "1079301  ZZZV9K-NM9B4Z  3900.0   3.97  control      PS4\n",
       "1079302  ZZZVH1-2OJT7I  5250.0   3.96  control       PC\n",
       "\n",
       "[1079303 rows x 5 columns]"
      ]
     },
     "execution_count": 102,
     "metadata": {},
     "output_type": "execute_result"
    }
   ],
   "source": [
    "common_3 = pd.merge(clean, common_2, on = ['user_id', 'money', 'cash'], how = 'left')\n",
    "del common_3['cheaters']\n",
    "common_3"
   ]
  },
  {
   "cell_type": "code",
   "execution_count": 103,
   "id": "de30670a",
   "metadata": {},
   "outputs": [
    {
     "data": {
      "text/html": [
       "<div>\n",
       "<style scoped>\n",
       "    .dataframe tbody tr th:only-of-type {\n",
       "        vertical-align: middle;\n",
       "    }\n",
       "\n",
       "    .dataframe tbody tr th {\n",
       "        vertical-align: top;\n",
       "    }\n",
       "\n",
       "    .dataframe thead th {\n",
       "        text-align: right;\n",
       "    }\n",
       "</style>\n",
       "<table border=\"1\" class=\"dataframe\">\n",
       "  <thead>\n",
       "    <tr style=\"text-align: right;\">\n",
       "      <th></th>\n",
       "      <th>user_id</th>\n",
       "      <th>cash</th>\n",
       "      <th>money</th>\n",
       "      <th>group</th>\n",
       "      <th>platform</th>\n",
       "    </tr>\n",
       "  </thead>\n",
       "  <tbody>\n",
       "    <tr>\n",
       "      <th>0</th>\n",
       "      <td>00036L-1T885I</td>\n",
       "      <td>7600.0</td>\n",
       "      <td>3.97</td>\n",
       "      <td>control</td>\n",
       "      <td>XBox</td>\n",
       "    </tr>\n",
       "    <tr>\n",
       "      <th>1</th>\n",
       "      <td>0004MK-MRBUKF</td>\n",
       "      <td>6150.0</td>\n",
       "      <td>5.95</td>\n",
       "      <td>control</td>\n",
       "      <td>PS4</td>\n",
       "    </tr>\n",
       "    <tr>\n",
       "      <th>5</th>\n",
       "      <td>0009DN-TWTJIG</td>\n",
       "      <td>7250.0</td>\n",
       "      <td>5.97</td>\n",
       "      <td>control</td>\n",
       "      <td>XBox</td>\n",
       "    </tr>\n",
       "    <tr>\n",
       "      <th>6</th>\n",
       "      <td>000A88-I8NCEL</td>\n",
       "      <td>4500.0</td>\n",
       "      <td>3.97</td>\n",
       "      <td>control</td>\n",
       "      <td>PS4</td>\n",
       "    </tr>\n",
       "    <tr>\n",
       "      <th>7</th>\n",
       "      <td>000B68-JX82RN</td>\n",
       "      <td>7200.0</td>\n",
       "      <td>5.95</td>\n",
       "      <td>control</td>\n",
       "      <td>PS4</td>\n",
       "    </tr>\n",
       "    <tr>\n",
       "      <th>...</th>\n",
       "      <td>...</td>\n",
       "      <td>...</td>\n",
       "      <td>...</td>\n",
       "      <td>...</td>\n",
       "      <td>...</td>\n",
       "    </tr>\n",
       "    <tr>\n",
       "      <th>1079288</th>\n",
       "      <td>ZZZ8PP-DTMHBH</td>\n",
       "      <td>4750.0</td>\n",
       "      <td>2.98</td>\n",
       "      <td>control</td>\n",
       "      <td>PS4</td>\n",
       "    </tr>\n",
       "    <tr>\n",
       "      <th>1079295</th>\n",
       "      <td>ZZZL1P-5DBOHS</td>\n",
       "      <td>6550.0</td>\n",
       "      <td>8.94</td>\n",
       "      <td>control</td>\n",
       "      <td>PS4</td>\n",
       "    </tr>\n",
       "    <tr>\n",
       "      <th>1079296</th>\n",
       "      <td>ZZZNBN-SJROHK</td>\n",
       "      <td>5450.0</td>\n",
       "      <td>4.95</td>\n",
       "      <td>control</td>\n",
       "      <td>PS4</td>\n",
       "    </tr>\n",
       "    <tr>\n",
       "      <th>1079301</th>\n",
       "      <td>ZZZV9K-NM9B4Z</td>\n",
       "      <td>3900.0</td>\n",
       "      <td>3.97</td>\n",
       "      <td>control</td>\n",
       "      <td>PS4</td>\n",
       "    </tr>\n",
       "    <tr>\n",
       "      <th>1079302</th>\n",
       "      <td>ZZZVH1-2OJT7I</td>\n",
       "      <td>5250.0</td>\n",
       "      <td>3.96</td>\n",
       "      <td>control</td>\n",
       "      <td>PC</td>\n",
       "    </tr>\n",
       "  </tbody>\n",
       "</table>\n",
       "<p>539991 rows × 5 columns</p>\n",
       "</div>"
      ],
      "text/plain": [
       "               user_id    cash  money    group platform\n",
       "0        00036L-1T885I  7600.0   3.97  control     XBox\n",
       "1        0004MK-MRBUKF  6150.0   5.95  control      PS4\n",
       "5        0009DN-TWTJIG  7250.0   5.97  control     XBox\n",
       "6        000A88-I8NCEL  4500.0   3.97  control      PS4\n",
       "7        000B68-JX82RN  7200.0   5.95  control      PS4\n",
       "...                ...     ...    ...      ...      ...\n",
       "1079288  ZZZ8PP-DTMHBH  4750.0   2.98  control      PS4\n",
       "1079295  ZZZL1P-5DBOHS  6550.0   8.94  control      PS4\n",
       "1079296  ZZZNBN-SJROHK  5450.0   4.95  control      PS4\n",
       "1079301  ZZZV9K-NM9B4Z  3900.0   3.97  control      PS4\n",
       "1079302  ZZZVH1-2OJT7I  5250.0   3.96  control       PC\n",
       "\n",
       "[539991 rows x 5 columns]"
      ]
     },
     "execution_count": 103,
     "metadata": {},
     "output_type": "execute_result"
    }
   ],
   "source": [
    "control = common_3.loc[common_3['group'] == 'control']\n",
    "control"
   ]
  },
  {
   "cell_type": "code",
   "execution_count": 104,
   "id": "b644682c",
   "metadata": {
    "scrolled": true
   },
   "outputs": [
    {
     "data": {
      "text/plain": [
       "cash     5800.705382\n",
       "money       5.829478\n",
       "dtype: float64"
      ]
     },
     "execution_count": 104,
     "metadata": {},
     "output_type": "execute_result"
    }
   ],
   "source": [
    "control[['cash', 'money']].mean()"
   ]
  },
  {
   "cell_type": "code",
   "execution_count": 105,
   "id": "caa98041",
   "metadata": {},
   "outputs": [
    {
     "data": {
      "text/html": [
       "<div>\n",
       "<style scoped>\n",
       "    .dataframe tbody tr th:only-of-type {\n",
       "        vertical-align: middle;\n",
       "    }\n",
       "\n",
       "    .dataframe tbody tr th {\n",
       "        vertical-align: top;\n",
       "    }\n",
       "\n",
       "    .dataframe thead th {\n",
       "        text-align: right;\n",
       "    }\n",
       "</style>\n",
       "<table border=\"1\" class=\"dataframe\">\n",
       "  <thead>\n",
       "    <tr style=\"text-align: right;\">\n",
       "      <th></th>\n",
       "      <th>user_id</th>\n",
       "      <th>cash</th>\n",
       "      <th>money</th>\n",
       "      <th>group</th>\n",
       "      <th>platform</th>\n",
       "    </tr>\n",
       "  </thead>\n",
       "  <tbody>\n",
       "    <tr>\n",
       "      <th>2</th>\n",
       "      <td>0004MK-VW0O9L</td>\n",
       "      <td>6300.0</td>\n",
       "      <td>4.96</td>\n",
       "      <td>test</td>\n",
       "      <td>PC</td>\n",
       "    </tr>\n",
       "    <tr>\n",
       "      <th>3</th>\n",
       "      <td>0005S4-UEC6BE</td>\n",
       "      <td>5000.0</td>\n",
       "      <td>5.95</td>\n",
       "      <td>test</td>\n",
       "      <td>PC</td>\n",
       "    </tr>\n",
       "    <tr>\n",
       "      <th>4</th>\n",
       "      <td>0007I5-EWUD6O</td>\n",
       "      <td>6350.0</td>\n",
       "      <td>6.94</td>\n",
       "      <td>test</td>\n",
       "      <td>PC</td>\n",
       "    </tr>\n",
       "    <tr>\n",
       "      <th>13</th>\n",
       "      <td>000IF8-UU506H</td>\n",
       "      <td>5350.0</td>\n",
       "      <td>6.94</td>\n",
       "      <td>test</td>\n",
       "      <td>PS4</td>\n",
       "    </tr>\n",
       "    <tr>\n",
       "      <th>16</th>\n",
       "      <td>000IX6-VZLBS1</td>\n",
       "      <td>9900.0</td>\n",
       "      <td>10.95</td>\n",
       "      <td>test</td>\n",
       "      <td>PC</td>\n",
       "    </tr>\n",
       "    <tr>\n",
       "      <th>...</th>\n",
       "      <td>...</td>\n",
       "      <td>...</td>\n",
       "      <td>...</td>\n",
       "      <td>...</td>\n",
       "      <td>...</td>\n",
       "    </tr>\n",
       "    <tr>\n",
       "      <th>1079294</th>\n",
       "      <td>ZZZIS2-9EYJF3</td>\n",
       "      <td>7100.0</td>\n",
       "      <td>3.96</td>\n",
       "      <td>test</td>\n",
       "      <td>PC</td>\n",
       "    </tr>\n",
       "    <tr>\n",
       "      <th>1079297</th>\n",
       "      <td>ZZZONB-1W7QEW</td>\n",
       "      <td>6750.0</td>\n",
       "      <td>6.95</td>\n",
       "      <td>test</td>\n",
       "      <td>PC</td>\n",
       "    </tr>\n",
       "    <tr>\n",
       "      <th>1079298</th>\n",
       "      <td>ZZZPEX-P2T8BH</td>\n",
       "      <td>6600.0</td>\n",
       "      <td>6.95</td>\n",
       "      <td>test</td>\n",
       "      <td>PC</td>\n",
       "    </tr>\n",
       "    <tr>\n",
       "      <th>1079299</th>\n",
       "      <td>ZZZTEN-0QGZ3X</td>\n",
       "      <td>4600.0</td>\n",
       "      <td>5.97</td>\n",
       "      <td>test</td>\n",
       "      <td>XBox</td>\n",
       "    </tr>\n",
       "    <tr>\n",
       "      <th>1079300</th>\n",
       "      <td>ZZZTR5-QSI6D3</td>\n",
       "      <td>5900.0</td>\n",
       "      <td>0.99</td>\n",
       "      <td>test</td>\n",
       "      <td>XBox</td>\n",
       "    </tr>\n",
       "  </tbody>\n",
       "</table>\n",
       "<p>539312 rows × 5 columns</p>\n",
       "</div>"
      ],
      "text/plain": [
       "               user_id    cash  money group platform\n",
       "2        0004MK-VW0O9L  6300.0   4.96  test       PC\n",
       "3        0005S4-UEC6BE  5000.0   5.95  test       PC\n",
       "4        0007I5-EWUD6O  6350.0   6.94  test       PC\n",
       "13       000IF8-UU506H  5350.0   6.94  test      PS4\n",
       "16       000IX6-VZLBS1  9900.0  10.95  test       PC\n",
       "...                ...     ...    ...   ...      ...\n",
       "1079294  ZZZIS2-9EYJF3  7100.0   3.96  test       PC\n",
       "1079297  ZZZONB-1W7QEW  6750.0   6.95  test       PC\n",
       "1079298  ZZZPEX-P2T8BH  6600.0   6.95  test       PC\n",
       "1079299  ZZZTEN-0QGZ3X  4600.0   5.97  test     XBox\n",
       "1079300  ZZZTR5-QSI6D3  5900.0   0.99  test     XBox\n",
       "\n",
       "[539312 rows x 5 columns]"
      ]
     },
     "execution_count": 105,
     "metadata": {},
     "output_type": "execute_result"
    }
   ],
   "source": [
    "test = common_3.loc[common_3['group'] == 'test']\n",
    "test"
   ]
  },
  {
   "cell_type": "code",
   "execution_count": 106,
   "id": "13cd491a",
   "metadata": {
    "scrolled": true
   },
   "outputs": [
    {
     "data": {
      "text/plain": [
       "cash     6229.596319\n",
       "money       6.162276\n",
       "dtype: float64"
      ]
     },
     "execution_count": 106,
     "metadata": {},
     "output_type": "execute_result"
    }
   ],
   "source": [
    "test[['cash', 'money']].mean()"
   ]
  },
  {
   "cell_type": "markdown",
   "id": "c4fb7849",
   "metadata": {},
   "source": [
    "# Доверительные интервалы групп с владельцами PS4"
   ]
  },
  {
   "cell_type": "code",
   "execution_count": 107,
   "id": "5fd80213",
   "metadata": {
    "scrolled": true
   },
   "outputs": [],
   "source": [
    "control_ps4 = control.loc[control['platform'] == 'PS4']\n",
    "test_ps4 = test.loc[test['platform'] == 'PS4']"
   ]
  },
  {
   "cell_type": "code",
   "execution_count": 108,
   "id": "65f29397",
   "metadata": {},
   "outputs": [],
   "source": [
    "def conf(df, column):\n",
    "    intrvl = stats.norm.interval(0.95, loc=df[column].mean(), scale=df[column].std())\n",
    "    return intrvl"
   ]
  },
  {
   "cell_type": "code",
   "execution_count": 109,
   "id": "3409a012",
   "metadata": {
    "scrolled": true
   },
   "outputs": [
    {
     "data": {
      "text/plain": [
       "(3066.57092390516, 8297.3014037405)"
      ]
     },
     "execution_count": 109,
     "metadata": {},
     "output_type": "execute_result"
    }
   ],
   "source": [
    "conf_control_ps4 = conf(control_ps4, 'cash')\n",
    "conf_control_ps4"
   ]
  },
  {
   "cell_type": "code",
   "execution_count": 110,
   "id": "c887d54c",
   "metadata": {},
   "outputs": [
    {
     "data": {
      "text/plain": [
       "(3460.5664381068054, 8800.420101480186)"
      ]
     },
     "execution_count": 110,
     "metadata": {},
     "output_type": "execute_result"
    }
   ],
   "source": [
    "conf_test_ps4 = conf(test_ps4, 'cash')\n",
    "conf_test_ps4"
   ]
  },
  {
   "cell_type": "markdown",
   "id": "44b03d4f",
   "metadata": {},
   "source": [
    "# Доверительные интервалы групп с владельцами  XBox"
   ]
  },
  {
   "cell_type": "code",
   "execution_count": 111,
   "id": "3d27eb4f",
   "metadata": {},
   "outputs": [],
   "source": [
    "control_xbox = control.loc[control['platform'] == 'XBox']\n",
    "test_xbox = test.loc[test['platform'] == 'XBox']"
   ]
  },
  {
   "cell_type": "code",
   "execution_count": 112,
   "id": "c446c89c",
   "metadata": {},
   "outputs": [
    {
     "data": {
      "text/plain": [
       "(3388.3958264174894, 8875.191217443862)"
      ]
     },
     "execution_count": 112,
     "metadata": {},
     "output_type": "execute_result"
    }
   ],
   "source": [
    "conf_control_xbox = conf(control_xbox, 'cash')\n",
    "conf_control_xbox"
   ]
  },
  {
   "cell_type": "code",
   "execution_count": 113,
   "id": "353c5006",
   "metadata": {},
   "outputs": [
    {
     "data": {
      "text/plain": [
       "(3429.8260479286673, 8922.979696280754)"
      ]
     },
     "execution_count": 113,
     "metadata": {},
     "output_type": "execute_result"
    }
   ],
   "source": [
    "conf_test_xbox = conf(test_xbox, 'cash')\n",
    "conf_test_xbox"
   ]
  },
  {
   "cell_type": "markdown",
   "id": "36cc2e24",
   "metadata": {},
   "source": [
    "# Доверительные интервалы групп с владельцами  PC"
   ]
  },
  {
   "cell_type": "code",
   "execution_count": 114,
   "id": "dfc42624",
   "metadata": {},
   "outputs": [],
   "source": [
    "control_pc = control.loc[control['platform'] == 'PC']\n",
    "test_pc = test.loc[test['platform'] == 'PC']"
   ]
  },
  {
   "cell_type": "code",
   "execution_count": 115,
   "id": "e5987bb9",
   "metadata": {},
   "outputs": [
    {
     "data": {
      "text/plain": [
       "(3159.7836793857646, 8014.420691566542)"
      ]
     },
     "execution_count": 115,
     "metadata": {},
     "output_type": "execute_result"
    }
   ],
   "source": [
    "conf_control_pc= conf(control_pc, 'cash')\n",
    "conf_control_pc"
   ]
  },
  {
   "cell_type": "code",
   "execution_count": 116,
   "id": "67501ac0",
   "metadata": {},
   "outputs": [
    {
     "data": {
      "text/plain": [
       "(3527.490304225572, 9236.000964821253)"
      ]
     },
     "execution_count": 116,
     "metadata": {},
     "output_type": "execute_result"
    }
   ],
   "source": [
    "conf_test_pc = conf(test_pc, 'cash')\n",
    "conf_test_pc"
   ]
  },
  {
   "cell_type": "markdown",
   "id": "ff0be26f",
   "metadata": {},
   "source": [
    "# "
   ]
  },
  {
   "cell_type": "code",
   "execution_count": 117,
   "id": "2d888743",
   "metadata": {},
   "outputs": [],
   "source": [
    "common_clean = clean.copy()\n",
    "del common_clean['cash']\n",
    "del common_clean['money']"
   ]
  },
  {
   "cell_type": "code",
   "execution_count": 118,
   "id": "026e5e05",
   "metadata": {},
   "outputs": [
    {
     "data": {
      "text/html": [
       "<div>\n",
       "<style scoped>\n",
       "    .dataframe tbody tr th:only-of-type {\n",
       "        vertical-align: middle;\n",
       "    }\n",
       "\n",
       "    .dataframe tbody tr th {\n",
       "        vertical-align: top;\n",
       "    }\n",
       "\n",
       "    .dataframe thead th {\n",
       "        text-align: right;\n",
       "    }\n",
       "</style>\n",
       "<table border=\"1\" class=\"dataframe\">\n",
       "  <thead>\n",
       "    <tr style=\"text-align: right;\">\n",
       "      <th></th>\n",
       "      <th>user_id</th>\n",
       "      <th>date</th>\n",
       "      <th>money</th>\n",
       "      <th>cash</th>\n",
       "      <th>group</th>\n",
       "      <th>platform</th>\n",
       "    </tr>\n",
       "  </thead>\n",
       "  <tbody>\n",
       "    <tr>\n",
       "      <th>0</th>\n",
       "      <td>00036L-1T885I</td>\n",
       "      <td>10.07.2021</td>\n",
       "      <td>0.00</td>\n",
       "      <td>700</td>\n",
       "      <td>control</td>\n",
       "      <td>XBox</td>\n",
       "    </tr>\n",
       "    <tr>\n",
       "      <th>1</th>\n",
       "      <td>00036L-1T885I</td>\n",
       "      <td>16.07.2021</td>\n",
       "      <td>0.99</td>\n",
       "      <td>550</td>\n",
       "      <td>control</td>\n",
       "      <td>XBox</td>\n",
       "    </tr>\n",
       "    <tr>\n",
       "      <th>2</th>\n",
       "      <td>00036L-1T885I</td>\n",
       "      <td>11.07.2021</td>\n",
       "      <td>0.00</td>\n",
       "      <td>0</td>\n",
       "      <td>control</td>\n",
       "      <td>XBox</td>\n",
       "    </tr>\n",
       "    <tr>\n",
       "      <th>3</th>\n",
       "      <td>00036L-1T885I</td>\n",
       "      <td>12.07.2021</td>\n",
       "      <td>0.99</td>\n",
       "      <td>1500</td>\n",
       "      <td>control</td>\n",
       "      <td>XBox</td>\n",
       "    </tr>\n",
       "    <tr>\n",
       "      <th>4</th>\n",
       "      <td>00036L-1T885I</td>\n",
       "      <td>14.07.2021</td>\n",
       "      <td>0.00</td>\n",
       "      <td>650</td>\n",
       "      <td>control</td>\n",
       "      <td>XBox</td>\n",
       "    </tr>\n",
       "    <tr>\n",
       "      <th>...</th>\n",
       "      <td>...</td>\n",
       "      <td>...</td>\n",
       "      <td>...</td>\n",
       "      <td>...</td>\n",
       "      <td>...</td>\n",
       "      <td>...</td>\n",
       "    </tr>\n",
       "    <tr>\n",
       "      <th>8634419</th>\n",
       "      <td>ZZZVH1-2OJT7I</td>\n",
       "      <td>16.07.2021</td>\n",
       "      <td>0.00</td>\n",
       "      <td>550</td>\n",
       "      <td>control</td>\n",
       "      <td>PC</td>\n",
       "    </tr>\n",
       "    <tr>\n",
       "      <th>8634420</th>\n",
       "      <td>ZZZVH1-2OJT7I</td>\n",
       "      <td>13.07.2021</td>\n",
       "      <td>0.99</td>\n",
       "      <td>650</td>\n",
       "      <td>control</td>\n",
       "      <td>PC</td>\n",
       "    </tr>\n",
       "    <tr>\n",
       "      <th>8634421</th>\n",
       "      <td>ZZZVH1-2OJT7I</td>\n",
       "      <td>11.07.2021</td>\n",
       "      <td>0.99</td>\n",
       "      <td>150</td>\n",
       "      <td>control</td>\n",
       "      <td>PC</td>\n",
       "    </tr>\n",
       "    <tr>\n",
       "      <th>8634422</th>\n",
       "      <td>ZZZVH1-2OJT7I</td>\n",
       "      <td>10.07.2021</td>\n",
       "      <td>0.99</td>\n",
       "      <td>1350</td>\n",
       "      <td>control</td>\n",
       "      <td>PC</td>\n",
       "    </tr>\n",
       "    <tr>\n",
       "      <th>8634423</th>\n",
       "      <td>ZZZVH1-2OJT7I</td>\n",
       "      <td>12.07.2021</td>\n",
       "      <td>0.00</td>\n",
       "      <td>500</td>\n",
       "      <td>control</td>\n",
       "      <td>PC</td>\n",
       "    </tr>\n",
       "  </tbody>\n",
       "</table>\n",
       "<p>8634424 rows × 6 columns</p>\n",
       "</div>"
      ],
      "text/plain": [
       "               user_id        date  money  cash    group platform\n",
       "0        00036L-1T885I  10.07.2021   0.00   700  control     XBox\n",
       "1        00036L-1T885I  16.07.2021   0.99   550  control     XBox\n",
       "2        00036L-1T885I  11.07.2021   0.00     0  control     XBox\n",
       "3        00036L-1T885I  12.07.2021   0.99  1500  control     XBox\n",
       "4        00036L-1T885I  14.07.2021   0.00   650  control     XBox\n",
       "...                ...         ...    ...   ...      ...      ...\n",
       "8634419  ZZZVH1-2OJT7I  16.07.2021   0.00   550  control       PC\n",
       "8634420  ZZZVH1-2OJT7I  13.07.2021   0.99   650  control       PC\n",
       "8634421  ZZZVH1-2OJT7I  11.07.2021   0.99   150  control       PC\n",
       "8634422  ZZZVH1-2OJT7I  10.07.2021   0.99  1350  control       PC\n",
       "8634423  ZZZVH1-2OJT7I  12.07.2021   0.00   500  control       PC\n",
       "\n",
       "[8634424 rows x 6 columns]"
      ]
     },
     "execution_count": 118,
     "metadata": {},
     "output_type": "execute_result"
    }
   ],
   "source": [
    "common_clean = pd.merge(common_clean, common, on = 'user_id', how = 'left')\n",
    "common_clean.drop('cheaters', axis= 1 , inplace= True )\n",
    "common_clean"
   ]
  },
  {
   "cell_type": "code",
   "execution_count": 119,
   "id": "b87f6413",
   "metadata": {},
   "outputs": [],
   "source": [
    "# common_clean.to_csv('clean.csv', index= False )"
   ]
  },
  {
   "cell_type": "code",
   "execution_count": 120,
   "id": "203032a3",
   "metadata": {},
   "outputs": [
    {
     "data": {
      "text/html": [
       "<div>\n",
       "<style scoped>\n",
       "    .dataframe tbody tr th:only-of-type {\n",
       "        vertical-align: middle;\n",
       "    }\n",
       "\n",
       "    .dataframe tbody tr th {\n",
       "        vertical-align: top;\n",
       "    }\n",
       "\n",
       "    .dataframe thead th {\n",
       "        text-align: right;\n",
       "    }\n",
       "</style>\n",
       "<table border=\"1\" class=\"dataframe\">\n",
       "  <thead>\n",
       "    <tr style=\"text-align: right;\">\n",
       "      <th></th>\n",
       "      <th>user_id</th>\n",
       "      <th>cash</th>\n",
       "      <th>money</th>\n",
       "      <th>group</th>\n",
       "      <th>platform</th>\n",
       "    </tr>\n",
       "  </thead>\n",
       "  <tbody>\n",
       "    <tr>\n",
       "      <th>0</th>\n",
       "      <td>00036L-1T885I</td>\n",
       "      <td>7600.0</td>\n",
       "      <td>3.97</td>\n",
       "      <td>control</td>\n",
       "      <td>XBox</td>\n",
       "    </tr>\n",
       "    <tr>\n",
       "      <th>1</th>\n",
       "      <td>0004MK-MRBUKF</td>\n",
       "      <td>6150.0</td>\n",
       "      <td>5.95</td>\n",
       "      <td>control</td>\n",
       "      <td>PS4</td>\n",
       "    </tr>\n",
       "    <tr>\n",
       "      <th>2</th>\n",
       "      <td>0004MK-VW0O9L</td>\n",
       "      <td>6300.0</td>\n",
       "      <td>4.96</td>\n",
       "      <td>test</td>\n",
       "      <td>PC</td>\n",
       "    </tr>\n",
       "    <tr>\n",
       "      <th>3</th>\n",
       "      <td>0005S4-UEC6BE</td>\n",
       "      <td>5000.0</td>\n",
       "      <td>5.95</td>\n",
       "      <td>test</td>\n",
       "      <td>PC</td>\n",
       "    </tr>\n",
       "    <tr>\n",
       "      <th>4</th>\n",
       "      <td>0007I5-EWUD6O</td>\n",
       "      <td>6350.0</td>\n",
       "      <td>6.94</td>\n",
       "      <td>test</td>\n",
       "      <td>PC</td>\n",
       "    </tr>\n",
       "    <tr>\n",
       "      <th>...</th>\n",
       "      <td>...</td>\n",
       "      <td>...</td>\n",
       "      <td>...</td>\n",
       "      <td>...</td>\n",
       "      <td>...</td>\n",
       "    </tr>\n",
       "    <tr>\n",
       "      <th>1079298</th>\n",
       "      <td>ZZZPEX-P2T8BH</td>\n",
       "      <td>6600.0</td>\n",
       "      <td>6.95</td>\n",
       "      <td>test</td>\n",
       "      <td>PC</td>\n",
       "    </tr>\n",
       "    <tr>\n",
       "      <th>1079299</th>\n",
       "      <td>ZZZTEN-0QGZ3X</td>\n",
       "      <td>4600.0</td>\n",
       "      <td>5.97</td>\n",
       "      <td>test</td>\n",
       "      <td>XBox</td>\n",
       "    </tr>\n",
       "    <tr>\n",
       "      <th>1079300</th>\n",
       "      <td>ZZZTR5-QSI6D3</td>\n",
       "      <td>5900.0</td>\n",
       "      <td>0.99</td>\n",
       "      <td>test</td>\n",
       "      <td>XBox</td>\n",
       "    </tr>\n",
       "    <tr>\n",
       "      <th>1079301</th>\n",
       "      <td>ZZZV9K-NM9B4Z</td>\n",
       "      <td>3900.0</td>\n",
       "      <td>3.97</td>\n",
       "      <td>control</td>\n",
       "      <td>PS4</td>\n",
       "    </tr>\n",
       "    <tr>\n",
       "      <th>1079302</th>\n",
       "      <td>ZZZVH1-2OJT7I</td>\n",
       "      <td>5250.0</td>\n",
       "      <td>3.96</td>\n",
       "      <td>control</td>\n",
       "      <td>PC</td>\n",
       "    </tr>\n",
       "  </tbody>\n",
       "</table>\n",
       "<p>1079303 rows × 5 columns</p>\n",
       "</div>"
      ],
      "text/plain": [
       "               user_id    cash  money    group platform\n",
       "0        00036L-1T885I  7600.0   3.97  control     XBox\n",
       "1        0004MK-MRBUKF  6150.0   5.95  control      PS4\n",
       "2        0004MK-VW0O9L  6300.0   4.96     test       PC\n",
       "3        0005S4-UEC6BE  5000.0   5.95     test       PC\n",
       "4        0007I5-EWUD6O  6350.0   6.94     test       PC\n",
       "...                ...     ...    ...      ...      ...\n",
       "1079298  ZZZPEX-P2T8BH  6600.0   6.95     test       PC\n",
       "1079299  ZZZTEN-0QGZ3X  4600.0   5.97     test     XBox\n",
       "1079300  ZZZTR5-QSI6D3  5900.0   0.99     test     XBox\n",
       "1079301  ZZZV9K-NM9B4Z  3900.0   3.97  control      PS4\n",
       "1079302  ZZZVH1-2OJT7I  5250.0   3.96  control       PC\n",
       "\n",
       "[1079303 rows x 5 columns]"
      ]
     },
     "execution_count": 120,
     "metadata": {},
     "output_type": "execute_result"
    }
   ],
   "source": [
    "common_3"
   ]
  },
  {
   "cell_type": "code",
   "execution_count": 121,
   "id": "966d9b3d",
   "metadata": {},
   "outputs": [],
   "source": [
    "common_4 = common_3.copy()\n",
    "del common_4['user_id']"
   ]
  },
  {
   "cell_type": "markdown",
   "id": "e0014c98",
   "metadata": {},
   "source": [
    "# ARPU"
   ]
  },
  {
   "cell_type": "code",
   "execution_count": 122,
   "id": "a69f6a86",
   "metadata": {
    "scrolled": true
   },
   "outputs": [
    {
     "data": {
      "text/html": [
       "<div>\n",
       "<style scoped>\n",
       "    .dataframe tbody tr th:only-of-type {\n",
       "        vertical-align: middle;\n",
       "    }\n",
       "\n",
       "    .dataframe tbody tr th {\n",
       "        vertical-align: top;\n",
       "    }\n",
       "\n",
       "    .dataframe thead th {\n",
       "        text-align: right;\n",
       "    }\n",
       "</style>\n",
       "<table border=\"1\" class=\"dataframe\">\n",
       "  <thead>\n",
       "    <tr style=\"text-align: right;\">\n",
       "      <th></th>\n",
       "      <th>cash</th>\n",
       "      <th>money</th>\n",
       "    </tr>\n",
       "    <tr>\n",
       "      <th>platform</th>\n",
       "      <th></th>\n",
       "      <th></th>\n",
       "    </tr>\n",
       "  </thead>\n",
       "  <tbody>\n",
       "    <tr>\n",
       "      <th>PC</th>\n",
       "      <td>5587.102185</td>\n",
       "      <td>5.646201</td>\n",
       "    </tr>\n",
       "    <tr>\n",
       "      <th>PS4</th>\n",
       "      <td>5681.936164</td>\n",
       "      <td>5.737647</td>\n",
       "    </tr>\n",
       "    <tr>\n",
       "      <th>XBox</th>\n",
       "      <td>6131.793522</td>\n",
       "      <td>6.103521</td>\n",
       "    </tr>\n",
       "  </tbody>\n",
       "</table>\n",
       "</div>"
      ],
      "text/plain": [
       "                 cash     money\n",
       "platform                       \n",
       "PC        5587.102185  5.646201\n",
       "PS4       5681.936164  5.737647\n",
       "XBox      6131.793522  6.103521"
      ]
     },
     "execution_count": 122,
     "metadata": {},
     "output_type": "execute_result"
    }
   ],
   "source": [
    "common_4[common_4['group'] == 'control'].groupby('platform').mean('cash', 'money')"
   ]
  },
  {
   "cell_type": "code",
   "execution_count": 123,
   "id": "a3c28f9d",
   "metadata": {
    "scrolled": true
   },
   "outputs": [
    {
     "data": {
      "text/html": [
       "<div>\n",
       "<style scoped>\n",
       "    .dataframe tbody tr th:only-of-type {\n",
       "        vertical-align: middle;\n",
       "    }\n",
       "\n",
       "    .dataframe tbody tr th {\n",
       "        vertical-align: top;\n",
       "    }\n",
       "\n",
       "    .dataframe thead th {\n",
       "        text-align: right;\n",
       "    }\n",
       "</style>\n",
       "<table border=\"1\" class=\"dataframe\">\n",
       "  <thead>\n",
       "    <tr style=\"text-align: right;\">\n",
       "      <th></th>\n",
       "      <th>cash</th>\n",
       "      <th>money</th>\n",
       "    </tr>\n",
       "    <tr>\n",
       "      <th>platform</th>\n",
       "      <th></th>\n",
       "      <th></th>\n",
       "    </tr>\n",
       "  </thead>\n",
       "  <tbody>\n",
       "    <tr>\n",
       "      <th>PC</th>\n",
       "      <td>6381.745635</td>\n",
       "      <td>6.269046</td>\n",
       "    </tr>\n",
       "    <tr>\n",
       "      <th>PS4</th>\n",
       "      <td>6130.493270</td>\n",
       "      <td>6.084883</td>\n",
       "    </tr>\n",
       "    <tr>\n",
       "      <th>XBox</th>\n",
       "      <td>6176.402872</td>\n",
       "      <td>6.132766</td>\n",
       "    </tr>\n",
       "  </tbody>\n",
       "</table>\n",
       "</div>"
      ],
      "text/plain": [
       "                 cash     money\n",
       "platform                       \n",
       "PC        6381.745635  6.269046\n",
       "PS4       6130.493270  6.084883\n",
       "XBox      6176.402872  6.132766"
      ]
     },
     "execution_count": 123,
     "metadata": {},
     "output_type": "execute_result"
    }
   ],
   "source": [
    "common_4[common_4['group'] == 'test'].groupby('platform').mean('cash', 'money')"
   ]
  },
  {
   "cell_type": "code",
   "execution_count": 135,
   "id": "b944bf7b",
   "metadata": {},
   "outputs": [],
   "source": [
    "arpu1 = common_4[common_4['group'] == 'control'].groupby('platform', as_index=False).mean('cash', 'money')\n",
    "arpu1.insert(loc= 3 , column='group', value='control')\n",
    "arpu2 = common_4[common_4['group'] == 'test'].groupby('platform', as_index=False).mean('cash', 'money')\n",
    "arpu2.insert(loc= 3 , column='group', value='test')"
   ]
  },
  {
   "cell_type": "code",
   "execution_count": 142,
   "id": "11497c73",
   "metadata": {
    "scrolled": true
   },
   "outputs": [
    {
     "data": {
      "text/html": [
       "<div>\n",
       "<style scoped>\n",
       "    .dataframe tbody tr th:only-of-type {\n",
       "        vertical-align: middle;\n",
       "    }\n",
       "\n",
       "    .dataframe tbody tr th {\n",
       "        vertical-align: top;\n",
       "    }\n",
       "\n",
       "    .dataframe thead th {\n",
       "        text-align: right;\n",
       "    }\n",
       "</style>\n",
       "<table border=\"1\" class=\"dataframe\">\n",
       "  <thead>\n",
       "    <tr style=\"text-align: right;\">\n",
       "      <th></th>\n",
       "      <th>platform</th>\n",
       "      <th>cash</th>\n",
       "      <th>money</th>\n",
       "      <th>group</th>\n",
       "    </tr>\n",
       "  </thead>\n",
       "  <tbody>\n",
       "    <tr>\n",
       "      <th>0</th>\n",
       "      <td>PC</td>\n",
       "      <td>5587.102185</td>\n",
       "      <td>5.646201</td>\n",
       "      <td>control</td>\n",
       "    </tr>\n",
       "    <tr>\n",
       "      <th>1</th>\n",
       "      <td>PS4</td>\n",
       "      <td>5681.936164</td>\n",
       "      <td>5.737647</td>\n",
       "      <td>control</td>\n",
       "    </tr>\n",
       "    <tr>\n",
       "      <th>2</th>\n",
       "      <td>XBox</td>\n",
       "      <td>6131.793522</td>\n",
       "      <td>6.103521</td>\n",
       "      <td>control</td>\n",
       "    </tr>\n",
       "    <tr>\n",
       "      <th>3</th>\n",
       "      <td>PC</td>\n",
       "      <td>6381.745635</td>\n",
       "      <td>6.269046</td>\n",
       "      <td>test</td>\n",
       "    </tr>\n",
       "    <tr>\n",
       "      <th>4</th>\n",
       "      <td>PS4</td>\n",
       "      <td>6130.493270</td>\n",
       "      <td>6.084883</td>\n",
       "      <td>test</td>\n",
       "    </tr>\n",
       "    <tr>\n",
       "      <th>5</th>\n",
       "      <td>XBox</td>\n",
       "      <td>6176.402872</td>\n",
       "      <td>6.132766</td>\n",
       "      <td>test</td>\n",
       "    </tr>\n",
       "  </tbody>\n",
       "</table>\n",
       "</div>"
      ],
      "text/plain": [
       "  platform         cash     money    group\n",
       "0       PC  5587.102185  5.646201  control\n",
       "1      PS4  5681.936164  5.737647  control\n",
       "2     XBox  6131.793522  6.103521  control\n",
       "3       PC  6381.745635  6.269046     test\n",
       "4      PS4  6130.493270  6.084883     test\n",
       "5     XBox  6176.402872  6.132766     test"
      ]
     },
     "execution_count": 142,
     "metadata": {},
     "output_type": "execute_result"
    }
   ],
   "source": [
    "arpu = pd.concat([arpu1, arpu2], ignore_index= True)\n",
    "arpu"
   ]
  },
  {
   "cell_type": "code",
   "execution_count": 143,
   "id": "0930ac95",
   "metadata": {},
   "outputs": [],
   "source": [
    "# arpu.to_excel('ARPU.xlsx', index= False)"
   ]
  },
  {
   "cell_type": "markdown",
   "id": "f904f604",
   "metadata": {},
   "source": [
    "# ARPPU"
   ]
  },
  {
   "cell_type": "code",
   "execution_count": 124,
   "id": "3ef92d39",
   "metadata": {},
   "outputs": [
    {
     "data": {
      "text/html": [
       "<div>\n",
       "<style scoped>\n",
       "    .dataframe tbody tr th:only-of-type {\n",
       "        vertical-align: middle;\n",
       "    }\n",
       "\n",
       "    .dataframe tbody tr th {\n",
       "        vertical-align: top;\n",
       "    }\n",
       "\n",
       "    .dataframe thead th {\n",
       "        text-align: right;\n",
       "    }\n",
       "</style>\n",
       "<table border=\"1\" class=\"dataframe\">\n",
       "  <thead>\n",
       "    <tr style=\"text-align: right;\">\n",
       "      <th></th>\n",
       "      <th>cash</th>\n",
       "      <th>money</th>\n",
       "    </tr>\n",
       "    <tr>\n",
       "      <th>platform</th>\n",
       "      <th></th>\n",
       "      <th></th>\n",
       "    </tr>\n",
       "  </thead>\n",
       "  <tbody>\n",
       "    <tr>\n",
       "      <th>PC</th>\n",
       "      <td>5587.963989</td>\n",
       "      <td>5.648307</td>\n",
       "    </tr>\n",
       "    <tr>\n",
       "      <th>PS4</th>\n",
       "      <td>5682.683160</td>\n",
       "      <td>5.739466</td>\n",
       "    </tr>\n",
       "    <tr>\n",
       "      <th>XBox</th>\n",
       "      <td>6132.223934</td>\n",
       "      <td>6.104434</td>\n",
       "    </tr>\n",
       "  </tbody>\n",
       "</table>\n",
       "</div>"
      ],
      "text/plain": [
       "                 cash     money\n",
       "platform                       \n",
       "PC        5587.963989  5.648307\n",
       "PS4       5682.683160  5.739466\n",
       "XBox      6132.223934  6.104434"
      ]
     },
     "execution_count": 124,
     "metadata": {},
     "output_type": "execute_result"
    }
   ],
   "source": [
    "common_4[(common_4['money'] != 0) & (common_4['group'] == 'control')].groupby('platform').mean('cash', 'money')"
   ]
  },
  {
   "cell_type": "code",
   "execution_count": 125,
   "id": "40c46a49",
   "metadata": {
    "scrolled": true
   },
   "outputs": [
    {
     "data": {
      "text/html": [
       "<div>\n",
       "<style scoped>\n",
       "    .dataframe tbody tr th:only-of-type {\n",
       "        vertical-align: middle;\n",
       "    }\n",
       "\n",
       "    .dataframe tbody tr th {\n",
       "        vertical-align: top;\n",
       "    }\n",
       "\n",
       "    .dataframe thead th {\n",
       "        text-align: right;\n",
       "    }\n",
       "</style>\n",
       "<table border=\"1\" class=\"dataframe\">\n",
       "  <thead>\n",
       "    <tr style=\"text-align: right;\">\n",
       "      <th></th>\n",
       "      <th>cash</th>\n",
       "      <th>money</th>\n",
       "    </tr>\n",
       "    <tr>\n",
       "      <th>platform</th>\n",
       "      <th></th>\n",
       "      <th></th>\n",
       "    </tr>\n",
       "  </thead>\n",
       "  <tbody>\n",
       "    <tr>\n",
       "      <th>PC</th>\n",
       "      <td>6382.064238</td>\n",
       "      <td>6.269743</td>\n",
       "    </tr>\n",
       "    <tr>\n",
       "      <th>PS4</th>\n",
       "      <td>6130.925212</td>\n",
       "      <td>6.085866</td>\n",
       "    </tr>\n",
       "    <tr>\n",
       "      <th>XBox</th>\n",
       "      <td>6176.848098</td>\n",
       "      <td>6.133686</td>\n",
       "    </tr>\n",
       "  </tbody>\n",
       "</table>\n",
       "</div>"
      ],
      "text/plain": [
       "                 cash     money\n",
       "platform                       \n",
       "PC        6382.064238  6.269743\n",
       "PS4       6130.925212  6.085866\n",
       "XBox      6176.848098  6.133686"
      ]
     },
     "execution_count": 125,
     "metadata": {},
     "output_type": "execute_result"
    }
   ],
   "source": [
    "common_4[(common_4['money'] != 0) & (common_4['group'] == 'test')].groupby('platform').mean('cash', 'money')"
   ]
  }
 ],
 "metadata": {
  "kernelspec": {
   "display_name": "Python 3 (ipykernel)",
   "language": "python",
   "name": "python3"
  },
  "language_info": {
   "codemirror_mode": {
    "name": "ipython",
    "version": 3
   },
   "file_extension": ".py",
   "mimetype": "text/x-python",
   "name": "python",
   "nbconvert_exporter": "python",
   "pygments_lexer": "ipython3",
   "version": "3.12.4"
  }
 },
 "nbformat": 4,
 "nbformat_minor": 5
}
